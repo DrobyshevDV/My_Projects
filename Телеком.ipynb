{
 "cells": [
  {
   "cell_type": "markdown",
   "metadata": {},
   "source": [
    "# Определение перспективного тарифа для телеком компании"
   ]
  },
  {
   "cell_type": "markdown",
   "metadata": {},
   "source": [
    "## Оглавление\n",
    "* [Загрузка данных и общая информация](#first-bullet)\n",
    "* [Предобработка данных](#second-bullet)\n",
    "* [Анализ данных](#third-bullet)\n",
    "* [Проверка гипотез](#fourth-bullet)\n",
    "* [Общий вывод](#fifth-bullet)"
   ]
  },
  {
   "cell_type": "code",
   "execution_count": 77,
   "metadata": {},
   "outputs": [],
   "source": [
    "# Импорт библиотек\n",
    "import pandas as pd\n",
    "import matplotlib.pyplot as plt\n",
    "import numpy as np\n",
    "from scipy import stats as st"
   ]
  },
  {
   "cell_type": "code",
   "execution_count": 78,
   "metadata": {},
   "outputs": [],
   "source": [
    "pd.options.display.float_format = '{:.4f}'.format #форматируем вывод данных float на экран"
   ]
  },
  {
   "cell_type": "markdown",
   "metadata": {},
   "source": [
    "## Загрузка данных и общая информация <a class=\"anchor\" id=\"first-bullet\"></a>"
   ]
  },
  {
   "cell_type": "code",
   "execution_count": 79,
   "metadata": {},
   "outputs": [],
   "source": [
    "# Функция для просмотра общей информации\n",
    "def total_info(data):\n",
    "    print('Первые 5 строк таблицы')\n",
    "    display(data.head())\n",
    "    print()\n",
    "    print('Общая информация о таблице')\n",
    "    display(data.info())\n",
    "    print()\n",
    "    print('Показатели математической статистики')\n",
    "    display(data.describe())"
   ]
  },
  {
   "cell_type": "code",
   "execution_count": 80,
   "metadata": {},
   "outputs": [
    {
     "name": "stdout",
     "output_type": "stream",
     "text": [
      "Первые 5 строк таблицы\n"
     ]
    },
    {
     "data": {
      "text/html": [
       "<div>\n",
       "<style scoped>\n",
       "    .dataframe tbody tr th:only-of-type {\n",
       "        vertical-align: middle;\n",
       "    }\n",
       "\n",
       "    .dataframe tbody tr th {\n",
       "        vertical-align: top;\n",
       "    }\n",
       "\n",
       "    .dataframe thead th {\n",
       "        text-align: right;\n",
       "    }\n",
       "</style>\n",
       "<table border=\"1\" class=\"dataframe\">\n",
       "  <thead>\n",
       "    <tr style=\"text-align: right;\">\n",
       "      <th></th>\n",
       "      <th>id</th>\n",
       "      <th>call_date</th>\n",
       "      <th>duration</th>\n",
       "      <th>user_id</th>\n",
       "    </tr>\n",
       "  </thead>\n",
       "  <tbody>\n",
       "    <tr>\n",
       "      <td>0</td>\n",
       "      <td>1000_0</td>\n",
       "      <td>2018-07-25</td>\n",
       "      <td>0.0000</td>\n",
       "      <td>1000</td>\n",
       "    </tr>\n",
       "    <tr>\n",
       "      <td>1</td>\n",
       "      <td>1000_1</td>\n",
       "      <td>2018-08-17</td>\n",
       "      <td>0.0000</td>\n",
       "      <td>1000</td>\n",
       "    </tr>\n",
       "    <tr>\n",
       "      <td>2</td>\n",
       "      <td>1000_2</td>\n",
       "      <td>2018-06-11</td>\n",
       "      <td>2.8500</td>\n",
       "      <td>1000</td>\n",
       "    </tr>\n",
       "    <tr>\n",
       "      <td>3</td>\n",
       "      <td>1000_3</td>\n",
       "      <td>2018-09-21</td>\n",
       "      <td>13.8000</td>\n",
       "      <td>1000</td>\n",
       "    </tr>\n",
       "    <tr>\n",
       "      <td>4</td>\n",
       "      <td>1000_4</td>\n",
       "      <td>2018-12-15</td>\n",
       "      <td>5.1800</td>\n",
       "      <td>1000</td>\n",
       "    </tr>\n",
       "  </tbody>\n",
       "</table>\n",
       "</div>"
      ],
      "text/plain": [
       "       id   call_date  duration  user_id\n",
       "0  1000_0  2018-07-25    0.0000     1000\n",
       "1  1000_1  2018-08-17    0.0000     1000\n",
       "2  1000_2  2018-06-11    2.8500     1000\n",
       "3  1000_3  2018-09-21   13.8000     1000\n",
       "4  1000_4  2018-12-15    5.1800     1000"
      ]
     },
     "metadata": {},
     "output_type": "display_data"
    },
    {
     "name": "stdout",
     "output_type": "stream",
     "text": [
      "\n",
      "Общая информация о таблице\n",
      "<class 'pandas.core.frame.DataFrame'>\n",
      "RangeIndex: 202607 entries, 0 to 202606\n",
      "Data columns (total 4 columns):\n",
      "id           202607 non-null object\n",
      "call_date    202607 non-null object\n",
      "duration     202607 non-null float64\n",
      "user_id      202607 non-null int64\n",
      "dtypes: float64(1), int64(1), object(2)\n",
      "memory usage: 6.2+ MB\n"
     ]
    },
    {
     "data": {
      "text/plain": [
       "None"
      ]
     },
     "metadata": {},
     "output_type": "display_data"
    },
    {
     "name": "stdout",
     "output_type": "stream",
     "text": [
      "\n",
      "Показатели математической статистики\n"
     ]
    },
    {
     "data": {
      "text/html": [
       "<div>\n",
       "<style scoped>\n",
       "    .dataframe tbody tr th:only-of-type {\n",
       "        vertical-align: middle;\n",
       "    }\n",
       "\n",
       "    .dataframe tbody tr th {\n",
       "        vertical-align: top;\n",
       "    }\n",
       "\n",
       "    .dataframe thead th {\n",
       "        text-align: right;\n",
       "    }\n",
       "</style>\n",
       "<table border=\"1\" class=\"dataframe\">\n",
       "  <thead>\n",
       "    <tr style=\"text-align: right;\">\n",
       "      <th></th>\n",
       "      <th>duration</th>\n",
       "      <th>user_id</th>\n",
       "    </tr>\n",
       "  </thead>\n",
       "  <tbody>\n",
       "    <tr>\n",
       "      <td>count</td>\n",
       "      <td>202607.0000</td>\n",
       "      <td>202607.0000</td>\n",
       "    </tr>\n",
       "    <tr>\n",
       "      <td>mean</td>\n",
       "      <td>6.7559</td>\n",
       "      <td>1253.9406</td>\n",
       "    </tr>\n",
       "    <tr>\n",
       "      <td>std</td>\n",
       "      <td>5.8434</td>\n",
       "      <td>144.7228</td>\n",
       "    </tr>\n",
       "    <tr>\n",
       "      <td>min</td>\n",
       "      <td>0.0000</td>\n",
       "      <td>1000.0000</td>\n",
       "    </tr>\n",
       "    <tr>\n",
       "      <td>25%</td>\n",
       "      <td>1.3000</td>\n",
       "      <td>1126.0000</td>\n",
       "    </tr>\n",
       "    <tr>\n",
       "      <td>50%</td>\n",
       "      <td>6.0000</td>\n",
       "      <td>1260.0000</td>\n",
       "    </tr>\n",
       "    <tr>\n",
       "      <td>75%</td>\n",
       "      <td>10.7000</td>\n",
       "      <td>1379.0000</td>\n",
       "    </tr>\n",
       "    <tr>\n",
       "      <td>max</td>\n",
       "      <td>38.0000</td>\n",
       "      <td>1499.0000</td>\n",
       "    </tr>\n",
       "  </tbody>\n",
       "</table>\n",
       "</div>"
      ],
      "text/plain": [
       "         duration     user_id\n",
       "count 202607.0000 202607.0000\n",
       "mean       6.7559   1253.9406\n",
       "std        5.8434    144.7228\n",
       "min        0.0000   1000.0000\n",
       "25%        1.3000   1126.0000\n",
       "50%        6.0000   1260.0000\n",
       "75%       10.7000   1379.0000\n",
       "max       38.0000   1499.0000"
      ]
     },
     "metadata": {},
     "output_type": "display_data"
    }
   ],
   "source": [
    "calls = pd.read_csv('/datasets/calls.csv')\n",
    "total_info(calls)"
   ]
  },
  {
   "cell_type": "code",
   "execution_count": 81,
   "metadata": {},
   "outputs": [
    {
     "name": "stdout",
     "output_type": "stream",
     "text": [
      "Количество звонков с длительностью 0 секунд: 19.6%\n"
     ]
    }
   ],
   "source": [
    "print('Количество звонков с длительностью 0 секунд: {:.1%}'.format(len(calls[calls['duration'] == 0]) / len(calls)))"
   ]
  },
  {
   "cell_type": "markdown",
   "metadata": {},
   "source": [
    "В таблице 202607 строк, пропусков в столбцах нет, требуется преобразование данных в дату в столбце `call_date`. Столбец с `id` звонка в анализе не понадобится, поэтому преобразовывать тип данных в нем не будем.\n",
    "\n",
    "Также в таблице каждый пятый звонок с длительностью 0 секунд, возможно это пропущенные звонки, когда клиент не смог дозвониться. "
   ]
  },
  {
   "cell_type": "code",
   "execution_count": 82,
   "metadata": {},
   "outputs": [
    {
     "name": "stdout",
     "output_type": "stream",
     "text": [
      "Первые 5 строк таблицы\n"
     ]
    },
    {
     "data": {
      "text/html": [
       "<div>\n",
       "<style scoped>\n",
       "    .dataframe tbody tr th:only-of-type {\n",
       "        vertical-align: middle;\n",
       "    }\n",
       "\n",
       "    .dataframe tbody tr th {\n",
       "        vertical-align: top;\n",
       "    }\n",
       "\n",
       "    .dataframe thead th {\n",
       "        text-align: right;\n",
       "    }\n",
       "</style>\n",
       "<table border=\"1\" class=\"dataframe\">\n",
       "  <thead>\n",
       "    <tr style=\"text-align: right;\">\n",
       "      <th></th>\n",
       "      <th>Unnamed: 0</th>\n",
       "      <th>id</th>\n",
       "      <th>mb_used</th>\n",
       "      <th>session_date</th>\n",
       "      <th>user_id</th>\n",
       "    </tr>\n",
       "  </thead>\n",
       "  <tbody>\n",
       "    <tr>\n",
       "      <td>0</td>\n",
       "      <td>0</td>\n",
       "      <td>1000_0</td>\n",
       "      <td>112.9500</td>\n",
       "      <td>2018-11-25</td>\n",
       "      <td>1000</td>\n",
       "    </tr>\n",
       "    <tr>\n",
       "      <td>1</td>\n",
       "      <td>1</td>\n",
       "      <td>1000_1</td>\n",
       "      <td>1052.8100</td>\n",
       "      <td>2018-09-07</td>\n",
       "      <td>1000</td>\n",
       "    </tr>\n",
       "    <tr>\n",
       "      <td>2</td>\n",
       "      <td>2</td>\n",
       "      <td>1000_2</td>\n",
       "      <td>1197.2600</td>\n",
       "      <td>2018-06-25</td>\n",
       "      <td>1000</td>\n",
       "    </tr>\n",
       "    <tr>\n",
       "      <td>3</td>\n",
       "      <td>3</td>\n",
       "      <td>1000_3</td>\n",
       "      <td>550.2700</td>\n",
       "      <td>2018-08-22</td>\n",
       "      <td>1000</td>\n",
       "    </tr>\n",
       "    <tr>\n",
       "      <td>4</td>\n",
       "      <td>4</td>\n",
       "      <td>1000_4</td>\n",
       "      <td>302.5600</td>\n",
       "      <td>2018-09-24</td>\n",
       "      <td>1000</td>\n",
       "    </tr>\n",
       "  </tbody>\n",
       "</table>\n",
       "</div>"
      ],
      "text/plain": [
       "   Unnamed: 0      id   mb_used session_date  user_id\n",
       "0           0  1000_0  112.9500   2018-11-25     1000\n",
       "1           1  1000_1 1052.8100   2018-09-07     1000\n",
       "2           2  1000_2 1197.2600   2018-06-25     1000\n",
       "3           3  1000_3  550.2700   2018-08-22     1000\n",
       "4           4  1000_4  302.5600   2018-09-24     1000"
      ]
     },
     "metadata": {},
     "output_type": "display_data"
    },
    {
     "name": "stdout",
     "output_type": "stream",
     "text": [
      "\n",
      "Общая информация о таблице\n",
      "<class 'pandas.core.frame.DataFrame'>\n",
      "RangeIndex: 149396 entries, 0 to 149395\n",
      "Data columns (total 5 columns):\n",
      "Unnamed: 0      149396 non-null int64\n",
      "id              149396 non-null object\n",
      "mb_used         149396 non-null float64\n",
      "session_date    149396 non-null object\n",
      "user_id         149396 non-null int64\n",
      "dtypes: float64(1), int64(2), object(2)\n",
      "memory usage: 5.7+ MB\n"
     ]
    },
    {
     "data": {
      "text/plain": [
       "None"
      ]
     },
     "metadata": {},
     "output_type": "display_data"
    },
    {
     "name": "stdout",
     "output_type": "stream",
     "text": [
      "\n",
      "Показатели математической статистики\n"
     ]
    },
    {
     "data": {
      "text/html": [
       "<div>\n",
       "<style scoped>\n",
       "    .dataframe tbody tr th:only-of-type {\n",
       "        vertical-align: middle;\n",
       "    }\n",
       "\n",
       "    .dataframe tbody tr th {\n",
       "        vertical-align: top;\n",
       "    }\n",
       "\n",
       "    .dataframe thead th {\n",
       "        text-align: right;\n",
       "    }\n",
       "</style>\n",
       "<table border=\"1\" class=\"dataframe\">\n",
       "  <thead>\n",
       "    <tr style=\"text-align: right;\">\n",
       "      <th></th>\n",
       "      <th>Unnamed: 0</th>\n",
       "      <th>mb_used</th>\n",
       "      <th>user_id</th>\n",
       "    </tr>\n",
       "  </thead>\n",
       "  <tbody>\n",
       "    <tr>\n",
       "      <td>count</td>\n",
       "      <td>149396.0000</td>\n",
       "      <td>149396.0000</td>\n",
       "      <td>149396.0000</td>\n",
       "    </tr>\n",
       "    <tr>\n",
       "      <td>mean</td>\n",
       "      <td>74697.5000</td>\n",
       "      <td>370.1924</td>\n",
       "      <td>1252.0998</td>\n",
       "    </tr>\n",
       "    <tr>\n",
       "      <td>std</td>\n",
       "      <td>43127.0547</td>\n",
       "      <td>278.3010</td>\n",
       "      <td>144.0508</td>\n",
       "    </tr>\n",
       "    <tr>\n",
       "      <td>min</td>\n",
       "      <td>0.0000</td>\n",
       "      <td>0.0000</td>\n",
       "      <td>1000.0000</td>\n",
       "    </tr>\n",
       "    <tr>\n",
       "      <td>25%</td>\n",
       "      <td>37348.7500</td>\n",
       "      <td>138.1875</td>\n",
       "      <td>1130.0000</td>\n",
       "    </tr>\n",
       "    <tr>\n",
       "      <td>50%</td>\n",
       "      <td>74697.5000</td>\n",
       "      <td>348.0150</td>\n",
       "      <td>1251.0000</td>\n",
       "    </tr>\n",
       "    <tr>\n",
       "      <td>75%</td>\n",
       "      <td>112046.2500</td>\n",
       "      <td>559.5525</td>\n",
       "      <td>1380.0000</td>\n",
       "    </tr>\n",
       "    <tr>\n",
       "      <td>max</td>\n",
       "      <td>149395.0000</td>\n",
       "      <td>1724.8300</td>\n",
       "      <td>1499.0000</td>\n",
       "    </tr>\n",
       "  </tbody>\n",
       "</table>\n",
       "</div>"
      ],
      "text/plain": [
       "       Unnamed: 0     mb_used     user_id\n",
       "count 149396.0000 149396.0000 149396.0000\n",
       "mean   74697.5000    370.1924   1252.0998\n",
       "std    43127.0547    278.3010    144.0508\n",
       "min        0.0000      0.0000   1000.0000\n",
       "25%    37348.7500    138.1875   1130.0000\n",
       "50%    74697.5000    348.0150   1251.0000\n",
       "75%   112046.2500    559.5525   1380.0000\n",
       "max   149395.0000   1724.8300   1499.0000"
      ]
     },
     "metadata": {},
     "output_type": "display_data"
    }
   ],
   "source": [
    "internet = pd.read_csv('/datasets/internet.csv')\n",
    "total_info(internet)"
   ]
  },
  {
   "cell_type": "code",
   "execution_count": 83,
   "metadata": {},
   "outputs": [
    {
     "name": "stdout",
     "output_type": "stream",
     "text": [
      "Количество сессий без использования трафика: 13.1%\n"
     ]
    }
   ],
   "source": [
    "print('Количество сессий без использования трафика: {:.1%}'.format(len(internet[internet['mb_used'] == 0]) / len(internet)))"
   ]
  },
  {
   "cell_type": "markdown",
   "metadata": {},
   "source": [
    "В таблице 149396 строк, пропусков в столбцах нет, требуется преобразование данных в дату в столбце `session_date`. Столбец с `id` в анализе не понадобится, поэтому преобразовывать тип данных в нем не будем.\n",
    "\n",
    "В таблице 13% сессий без использования интернет трафика, скорее всего произошел разрыв связи.\n",
    "\n",
    "Столбец `Unnamed` не содержит ценной информации, дублирует индекс таблицы, этот столбец будет удaлен на этапе предобработки данных."
   ]
  },
  {
   "cell_type": "code",
   "execution_count": 84,
   "metadata": {},
   "outputs": [
    {
     "name": "stdout",
     "output_type": "stream",
     "text": [
      "Первые 5 строк таблицы\n"
     ]
    },
    {
     "data": {
      "text/html": [
       "<div>\n",
       "<style scoped>\n",
       "    .dataframe tbody tr th:only-of-type {\n",
       "        vertical-align: middle;\n",
       "    }\n",
       "\n",
       "    .dataframe tbody tr th {\n",
       "        vertical-align: top;\n",
       "    }\n",
       "\n",
       "    .dataframe thead th {\n",
       "        text-align: right;\n",
       "    }\n",
       "</style>\n",
       "<table border=\"1\" class=\"dataframe\">\n",
       "  <thead>\n",
       "    <tr style=\"text-align: right;\">\n",
       "      <th></th>\n",
       "      <th>id</th>\n",
       "      <th>message_date</th>\n",
       "      <th>user_id</th>\n",
       "    </tr>\n",
       "  </thead>\n",
       "  <tbody>\n",
       "    <tr>\n",
       "      <td>0</td>\n",
       "      <td>1000_0</td>\n",
       "      <td>2018-06-27</td>\n",
       "      <td>1000</td>\n",
       "    </tr>\n",
       "    <tr>\n",
       "      <td>1</td>\n",
       "      <td>1000_1</td>\n",
       "      <td>2018-10-08</td>\n",
       "      <td>1000</td>\n",
       "    </tr>\n",
       "    <tr>\n",
       "      <td>2</td>\n",
       "      <td>1000_2</td>\n",
       "      <td>2018-08-04</td>\n",
       "      <td>1000</td>\n",
       "    </tr>\n",
       "    <tr>\n",
       "      <td>3</td>\n",
       "      <td>1000_3</td>\n",
       "      <td>2018-06-16</td>\n",
       "      <td>1000</td>\n",
       "    </tr>\n",
       "    <tr>\n",
       "      <td>4</td>\n",
       "      <td>1000_4</td>\n",
       "      <td>2018-12-05</td>\n",
       "      <td>1000</td>\n",
       "    </tr>\n",
       "  </tbody>\n",
       "</table>\n",
       "</div>"
      ],
      "text/plain": [
       "       id message_date  user_id\n",
       "0  1000_0   2018-06-27     1000\n",
       "1  1000_1   2018-10-08     1000\n",
       "2  1000_2   2018-08-04     1000\n",
       "3  1000_3   2018-06-16     1000\n",
       "4  1000_4   2018-12-05     1000"
      ]
     },
     "metadata": {},
     "output_type": "display_data"
    },
    {
     "name": "stdout",
     "output_type": "stream",
     "text": [
      "\n",
      "Общая информация о таблице\n",
      "<class 'pandas.core.frame.DataFrame'>\n",
      "RangeIndex: 123036 entries, 0 to 123035\n",
      "Data columns (total 3 columns):\n",
      "id              123036 non-null object\n",
      "message_date    123036 non-null object\n",
      "user_id         123036 non-null int64\n",
      "dtypes: int64(1), object(2)\n",
      "memory usage: 2.8+ MB\n"
     ]
    },
    {
     "data": {
      "text/plain": [
       "None"
      ]
     },
     "metadata": {},
     "output_type": "display_data"
    },
    {
     "name": "stdout",
     "output_type": "stream",
     "text": [
      "\n",
      "Показатели математической статистики\n"
     ]
    },
    {
     "data": {
      "text/html": [
       "<div>\n",
       "<style scoped>\n",
       "    .dataframe tbody tr th:only-of-type {\n",
       "        vertical-align: middle;\n",
       "    }\n",
       "\n",
       "    .dataframe tbody tr th {\n",
       "        vertical-align: top;\n",
       "    }\n",
       "\n",
       "    .dataframe thead th {\n",
       "        text-align: right;\n",
       "    }\n",
       "</style>\n",
       "<table border=\"1\" class=\"dataframe\">\n",
       "  <thead>\n",
       "    <tr style=\"text-align: right;\">\n",
       "      <th></th>\n",
       "      <th>user_id</th>\n",
       "    </tr>\n",
       "  </thead>\n",
       "  <tbody>\n",
       "    <tr>\n",
       "      <td>count</td>\n",
       "      <td>123036.0000</td>\n",
       "    </tr>\n",
       "    <tr>\n",
       "      <td>mean</td>\n",
       "      <td>1256.9894</td>\n",
       "    </tr>\n",
       "    <tr>\n",
       "      <td>std</td>\n",
       "      <td>143.5240</td>\n",
       "    </tr>\n",
       "    <tr>\n",
       "      <td>min</td>\n",
       "      <td>1000.0000</td>\n",
       "    </tr>\n",
       "    <tr>\n",
       "      <td>25%</td>\n",
       "      <td>1134.0000</td>\n",
       "    </tr>\n",
       "    <tr>\n",
       "      <td>50%</td>\n",
       "      <td>1271.0000</td>\n",
       "    </tr>\n",
       "    <tr>\n",
       "      <td>75%</td>\n",
       "      <td>1381.0000</td>\n",
       "    </tr>\n",
       "    <tr>\n",
       "      <td>max</td>\n",
       "      <td>1499.0000</td>\n",
       "    </tr>\n",
       "  </tbody>\n",
       "</table>\n",
       "</div>"
      ],
      "text/plain": [
       "          user_id\n",
       "count 123036.0000\n",
       "mean    1256.9894\n",
       "std      143.5240\n",
       "min     1000.0000\n",
       "25%     1134.0000\n",
       "50%     1271.0000\n",
       "75%     1381.0000\n",
       "max     1499.0000"
      ]
     },
     "metadata": {},
     "output_type": "display_data"
    }
   ],
   "source": [
    "messages = pd.read_csv('/datasets/messages.csv')\n",
    "total_info(messages)"
   ]
  },
  {
   "cell_type": "markdown",
   "metadata": {},
   "source": [
    "В таблице 123036 строк, пропусков в столбцах нет, требуется преобразование данных в дату в столбце `message_date`. Столбец с `id` в анализе не понадобится, поэтому преобразовывать тип данных в нем не будем."
   ]
  },
  {
   "cell_type": "code",
   "execution_count": 85,
   "metadata": {},
   "outputs": [
    {
     "data": {
      "text/html": [
       "<div>\n",
       "<style scoped>\n",
       "    .dataframe tbody tr th:only-of-type {\n",
       "        vertical-align: middle;\n",
       "    }\n",
       "\n",
       "    .dataframe tbody tr th {\n",
       "        vertical-align: top;\n",
       "    }\n",
       "\n",
       "    .dataframe thead th {\n",
       "        text-align: right;\n",
       "    }\n",
       "</style>\n",
       "<table border=\"1\" class=\"dataframe\">\n",
       "  <thead>\n",
       "    <tr style=\"text-align: right;\">\n",
       "      <th></th>\n",
       "      <th>messages_included</th>\n",
       "      <th>mb_per_month_included</th>\n",
       "      <th>minutes_included</th>\n",
       "      <th>rub_monthly_fee</th>\n",
       "      <th>rub_per_gb</th>\n",
       "      <th>rub_per_message</th>\n",
       "      <th>rub_per_minute</th>\n",
       "      <th>tariff_name</th>\n",
       "    </tr>\n",
       "  </thead>\n",
       "  <tbody>\n",
       "    <tr>\n",
       "      <td>0</td>\n",
       "      <td>50</td>\n",
       "      <td>15360</td>\n",
       "      <td>500</td>\n",
       "      <td>550</td>\n",
       "      <td>200</td>\n",
       "      <td>3</td>\n",
       "      <td>3</td>\n",
       "      <td>smart</td>\n",
       "    </tr>\n",
       "    <tr>\n",
       "      <td>1</td>\n",
       "      <td>1000</td>\n",
       "      <td>30720</td>\n",
       "      <td>3000</td>\n",
       "      <td>1950</td>\n",
       "      <td>150</td>\n",
       "      <td>1</td>\n",
       "      <td>1</td>\n",
       "      <td>ultra</td>\n",
       "    </tr>\n",
       "  </tbody>\n",
       "</table>\n",
       "</div>"
      ],
      "text/plain": [
       "   messages_included  mb_per_month_included  minutes_included  \\\n",
       "0                 50                  15360               500   \n",
       "1               1000                  30720              3000   \n",
       "\n",
       "   rub_monthly_fee  rub_per_gb  rub_per_message  rub_per_minute tariff_name  \n",
       "0              550         200                3               3       smart  \n",
       "1             1950         150                1               1       ultra  "
      ]
     },
     "execution_count": 85,
     "metadata": {},
     "output_type": "execute_result"
    }
   ],
   "source": [
    "tariffs = pd.read_csv('/datasets/tariffs.csv')\n",
    "tariffs.head()"
   ]
  },
  {
   "cell_type": "code",
   "execution_count": 86,
   "metadata": {},
   "outputs": [
    {
     "name": "stdout",
     "output_type": "stream",
     "text": [
      "Первые 5 строк таблицы\n"
     ]
    },
    {
     "data": {
      "text/html": [
       "<div>\n",
       "<style scoped>\n",
       "    .dataframe tbody tr th:only-of-type {\n",
       "        vertical-align: middle;\n",
       "    }\n",
       "\n",
       "    .dataframe tbody tr th {\n",
       "        vertical-align: top;\n",
       "    }\n",
       "\n",
       "    .dataframe thead th {\n",
       "        text-align: right;\n",
       "    }\n",
       "</style>\n",
       "<table border=\"1\" class=\"dataframe\">\n",
       "  <thead>\n",
       "    <tr style=\"text-align: right;\">\n",
       "      <th></th>\n",
       "      <th>user_id</th>\n",
       "      <th>age</th>\n",
       "      <th>churn_date</th>\n",
       "      <th>city</th>\n",
       "      <th>first_name</th>\n",
       "      <th>last_name</th>\n",
       "      <th>reg_date</th>\n",
       "      <th>tariff</th>\n",
       "    </tr>\n",
       "  </thead>\n",
       "  <tbody>\n",
       "    <tr>\n",
       "      <td>0</td>\n",
       "      <td>1000</td>\n",
       "      <td>52</td>\n",
       "      <td>NaN</td>\n",
       "      <td>Краснодар</td>\n",
       "      <td>Рафаил</td>\n",
       "      <td>Верещагин</td>\n",
       "      <td>2018-05-25</td>\n",
       "      <td>ultra</td>\n",
       "    </tr>\n",
       "    <tr>\n",
       "      <td>1</td>\n",
       "      <td>1001</td>\n",
       "      <td>41</td>\n",
       "      <td>NaN</td>\n",
       "      <td>Москва</td>\n",
       "      <td>Иван</td>\n",
       "      <td>Ежов</td>\n",
       "      <td>2018-11-01</td>\n",
       "      <td>smart</td>\n",
       "    </tr>\n",
       "    <tr>\n",
       "      <td>2</td>\n",
       "      <td>1002</td>\n",
       "      <td>59</td>\n",
       "      <td>NaN</td>\n",
       "      <td>Стерлитамак</td>\n",
       "      <td>Евгений</td>\n",
       "      <td>Абрамович</td>\n",
       "      <td>2018-06-17</td>\n",
       "      <td>smart</td>\n",
       "    </tr>\n",
       "    <tr>\n",
       "      <td>3</td>\n",
       "      <td>1003</td>\n",
       "      <td>23</td>\n",
       "      <td>NaN</td>\n",
       "      <td>Москва</td>\n",
       "      <td>Белла</td>\n",
       "      <td>Белякова</td>\n",
       "      <td>2018-08-17</td>\n",
       "      <td>ultra</td>\n",
       "    </tr>\n",
       "    <tr>\n",
       "      <td>4</td>\n",
       "      <td>1004</td>\n",
       "      <td>68</td>\n",
       "      <td>NaN</td>\n",
       "      <td>Новокузнецк</td>\n",
       "      <td>Татьяна</td>\n",
       "      <td>Авдеенко</td>\n",
       "      <td>2018-05-14</td>\n",
       "      <td>ultra</td>\n",
       "    </tr>\n",
       "  </tbody>\n",
       "</table>\n",
       "</div>"
      ],
      "text/plain": [
       "   user_id  age churn_date         city first_name  last_name    reg_date  \\\n",
       "0     1000   52        NaN    Краснодар     Рафаил  Верещагин  2018-05-25   \n",
       "1     1001   41        NaN       Москва       Иван       Ежов  2018-11-01   \n",
       "2     1002   59        NaN  Стерлитамак    Евгений  Абрамович  2018-06-17   \n",
       "3     1003   23        NaN       Москва      Белла   Белякова  2018-08-17   \n",
       "4     1004   68        NaN  Новокузнецк    Татьяна   Авдеенко  2018-05-14   \n",
       "\n",
       "  tariff  \n",
       "0  ultra  \n",
       "1  smart  \n",
       "2  smart  \n",
       "3  ultra  \n",
       "4  ultra  "
      ]
     },
     "metadata": {},
     "output_type": "display_data"
    },
    {
     "name": "stdout",
     "output_type": "stream",
     "text": [
      "\n",
      "Общая информация о таблице\n",
      "<class 'pandas.core.frame.DataFrame'>\n",
      "RangeIndex: 500 entries, 0 to 499\n",
      "Data columns (total 8 columns):\n",
      "user_id       500 non-null int64\n",
      "age           500 non-null int64\n",
      "churn_date    38 non-null object\n",
      "city          500 non-null object\n",
      "first_name    500 non-null object\n",
      "last_name     500 non-null object\n",
      "reg_date      500 non-null object\n",
      "tariff        500 non-null object\n",
      "dtypes: int64(2), object(6)\n",
      "memory usage: 31.4+ KB\n"
     ]
    },
    {
     "data": {
      "text/plain": [
       "None"
      ]
     },
     "metadata": {},
     "output_type": "display_data"
    },
    {
     "name": "stdout",
     "output_type": "stream",
     "text": [
      "\n",
      "Показатели математической статистики\n"
     ]
    },
    {
     "data": {
      "text/html": [
       "<div>\n",
       "<style scoped>\n",
       "    .dataframe tbody tr th:only-of-type {\n",
       "        vertical-align: middle;\n",
       "    }\n",
       "\n",
       "    .dataframe tbody tr th {\n",
       "        vertical-align: top;\n",
       "    }\n",
       "\n",
       "    .dataframe thead th {\n",
       "        text-align: right;\n",
       "    }\n",
       "</style>\n",
       "<table border=\"1\" class=\"dataframe\">\n",
       "  <thead>\n",
       "    <tr style=\"text-align: right;\">\n",
       "      <th></th>\n",
       "      <th>user_id</th>\n",
       "      <th>age</th>\n",
       "    </tr>\n",
       "  </thead>\n",
       "  <tbody>\n",
       "    <tr>\n",
       "      <td>count</td>\n",
       "      <td>500.0000</td>\n",
       "      <td>500.0000</td>\n",
       "    </tr>\n",
       "    <tr>\n",
       "      <td>mean</td>\n",
       "      <td>1249.5000</td>\n",
       "      <td>46.5880</td>\n",
       "    </tr>\n",
       "    <tr>\n",
       "      <td>std</td>\n",
       "      <td>144.4818</td>\n",
       "      <td>16.6676</td>\n",
       "    </tr>\n",
       "    <tr>\n",
       "      <td>min</td>\n",
       "      <td>1000.0000</td>\n",
       "      <td>18.0000</td>\n",
       "    </tr>\n",
       "    <tr>\n",
       "      <td>25%</td>\n",
       "      <td>1124.7500</td>\n",
       "      <td>32.0000</td>\n",
       "    </tr>\n",
       "    <tr>\n",
       "      <td>50%</td>\n",
       "      <td>1249.5000</td>\n",
       "      <td>46.0000</td>\n",
       "    </tr>\n",
       "    <tr>\n",
       "      <td>75%</td>\n",
       "      <td>1374.2500</td>\n",
       "      <td>62.0000</td>\n",
       "    </tr>\n",
       "    <tr>\n",
       "      <td>max</td>\n",
       "      <td>1499.0000</td>\n",
       "      <td>75.0000</td>\n",
       "    </tr>\n",
       "  </tbody>\n",
       "</table>\n",
       "</div>"
      ],
      "text/plain": [
       "        user_id      age\n",
       "count  500.0000 500.0000\n",
       "mean  1249.5000  46.5880\n",
       "std    144.4818  16.6676\n",
       "min   1000.0000  18.0000\n",
       "25%   1124.7500  32.0000\n",
       "50%   1249.5000  46.0000\n",
       "75%   1374.2500  62.0000\n",
       "max   1499.0000  75.0000"
      ]
     },
     "metadata": {},
     "output_type": "display_data"
    }
   ],
   "source": [
    "users = pd.read_csv('/datasets/users.csv')\n",
    "total_info(users)"
   ]
  },
  {
   "cell_type": "code",
   "execution_count": 87,
   "metadata": {},
   "outputs": [
    {
     "data": {
      "text/plain": [
       "500"
      ]
     },
     "execution_count": 87,
     "metadata": {},
     "output_type": "execute_result"
    }
   ],
   "source": [
    "len(users['user_id'].unique())"
   ]
  },
  {
   "cell_type": "markdown",
   "metadata": {},
   "source": [
    "В таблице содержится информация о 500 пользователях, часть из них (38 человек) перестали пользоваться тарифом компании (заполнен столбец с `churn_date`). Поскольку нет одинаковых user_id можно предположить, что 38 человек после ухода с тарифа полностью перестали пользоваться услугами компании. В таблице требуется преобразование столбцов `reg_date` и `churn_date` в формат даты."
   ]
  },
  {
   "cell_type": "code",
   "execution_count": 88,
   "metadata": {},
   "outputs": [
    {
     "data": {
      "text/html": [
       "<div>\n",
       "<style scoped>\n",
       "    .dataframe tbody tr th:only-of-type {\n",
       "        vertical-align: middle;\n",
       "    }\n",
       "\n",
       "    .dataframe tbody tr th {\n",
       "        vertical-align: top;\n",
       "    }\n",
       "\n",
       "    .dataframe thead th {\n",
       "        text-align: right;\n",
       "    }\n",
       "</style>\n",
       "<table border=\"1\" class=\"dataframe\">\n",
       "  <thead>\n",
       "    <tr style=\"text-align: right;\">\n",
       "      <th></th>\n",
       "      <th>duration</th>\n",
       "      <th>user_id</th>\n",
       "    </tr>\n",
       "  </thead>\n",
       "  <tbody>\n",
       "    <tr>\n",
       "      <td>count</td>\n",
       "      <td>202607.0000</td>\n",
       "      <td>202607.0000</td>\n",
       "    </tr>\n",
       "    <tr>\n",
       "      <td>mean</td>\n",
       "      <td>6.7559</td>\n",
       "      <td>1253.9406</td>\n",
       "    </tr>\n",
       "    <tr>\n",
       "      <td>std</td>\n",
       "      <td>5.8434</td>\n",
       "      <td>144.7228</td>\n",
       "    </tr>\n",
       "    <tr>\n",
       "      <td>min</td>\n",
       "      <td>0.0000</td>\n",
       "      <td>1000.0000</td>\n",
       "    </tr>\n",
       "    <tr>\n",
       "      <td>25%</td>\n",
       "      <td>1.3000</td>\n",
       "      <td>1126.0000</td>\n",
       "    </tr>\n",
       "    <tr>\n",
       "      <td>50%</td>\n",
       "      <td>6.0000</td>\n",
       "      <td>1260.0000</td>\n",
       "    </tr>\n",
       "    <tr>\n",
       "      <td>75%</td>\n",
       "      <td>10.7000</td>\n",
       "      <td>1379.0000</td>\n",
       "    </tr>\n",
       "    <tr>\n",
       "      <td>max</td>\n",
       "      <td>38.0000</td>\n",
       "      <td>1499.0000</td>\n",
       "    </tr>\n",
       "  </tbody>\n",
       "</table>\n",
       "</div>"
      ],
      "text/plain": [
       "         duration     user_id\n",
       "count 202607.0000 202607.0000\n",
       "mean       6.7559   1253.9406\n",
       "std        5.8434    144.7228\n",
       "min        0.0000   1000.0000\n",
       "25%        1.3000   1126.0000\n",
       "50%        6.0000   1260.0000\n",
       "75%       10.7000   1379.0000\n",
       "max       38.0000   1499.0000"
      ]
     },
     "execution_count": 88,
     "metadata": {},
     "output_type": "execute_result"
    }
   ],
   "source": [
    "calls.describe()"
   ]
  },
  {
   "cell_type": "markdown",
   "metadata": {},
   "source": [
    "## Предобработка данных <a class=\"anchor\" id=\"second-bullet\"></a>"
   ]
  },
  {
   "cell_type": "code",
   "execution_count": 89,
   "metadata": {},
   "outputs": [],
   "source": [
    "# Преобразовываем столбцы с датами в формат даты. \n",
    "# Сразу преобразуем к формату \"год-месяц\", поскольку далее предполагается аналих данных в помесячной разбивке\n",
    "calls['call_date'] = pd.to_datetime(calls['call_date'],format='%Y-%m-%d').astype('datetime64[M]')\n",
    "internet['session_date'] = pd.to_datetime(internet['session_date'],format='%Y-%m-%d').astype('datetime64[M]')\n",
    "messages['message_date'] = pd.to_datetime(messages['message_date'],format='%Y-%m-%d').astype('datetime64[M]')\n",
    "users['churn_date'] = pd.to_datetime(users['churn_date'],format='%Y-%m-%d')\n",
    "users['reg_date'] = pd.to_datetime(users['reg_date'],format='%Y-%m-%d')"
   ]
  },
  {
   "cell_type": "code",
   "execution_count": 90,
   "metadata": {},
   "outputs": [],
   "source": [
    "# Удаляем лишний столбец `Unnamed: 0`\n",
    "internet = internet.drop(['Unnamed: 0'], axis=1)"
   ]
  },
  {
   "cell_type": "code",
   "execution_count": 91,
   "metadata": {},
   "outputs": [
    {
     "name": "stdout",
     "output_type": "stream",
     "text": [
      "<class 'pandas.core.frame.DataFrame'>\n",
      "RangeIndex: 202607 entries, 0 to 202606\n",
      "Data columns (total 4 columns):\n",
      "id           202607 non-null object\n",
      "call_date    202607 non-null datetime64[ns]\n",
      "duration     202607 non-null float64\n",
      "user_id      202607 non-null int64\n",
      "dtypes: datetime64[ns](1), float64(1), int64(1), object(1)\n",
      "memory usage: 6.2+ MB\n"
     ]
    }
   ],
   "source": [
    "calls.info()"
   ]
  },
  {
   "cell_type": "code",
   "execution_count": 92,
   "metadata": {},
   "outputs": [
    {
     "name": "stdout",
     "output_type": "stream",
     "text": [
      "<class 'pandas.core.frame.DataFrame'>\n",
      "RangeIndex: 149396 entries, 0 to 149395\n",
      "Data columns (total 4 columns):\n",
      "id              149396 non-null object\n",
      "mb_used         149396 non-null float64\n",
      "session_date    149396 non-null datetime64[ns]\n",
      "user_id         149396 non-null int64\n",
      "dtypes: datetime64[ns](1), float64(1), int64(1), object(1)\n",
      "memory usage: 4.6+ MB\n"
     ]
    }
   ],
   "source": [
    "internet.info()"
   ]
  },
  {
   "cell_type": "code",
   "execution_count": 93,
   "metadata": {},
   "outputs": [
    {
     "name": "stdout",
     "output_type": "stream",
     "text": [
      "<class 'pandas.core.frame.DataFrame'>\n",
      "RangeIndex: 123036 entries, 0 to 123035\n",
      "Data columns (total 3 columns):\n",
      "id              123036 non-null object\n",
      "message_date    123036 non-null datetime64[ns]\n",
      "user_id         123036 non-null int64\n",
      "dtypes: datetime64[ns](1), int64(1), object(1)\n",
      "memory usage: 2.8+ MB\n"
     ]
    }
   ],
   "source": [
    "messages.info()"
   ]
  },
  {
   "cell_type": "code",
   "execution_count": 94,
   "metadata": {},
   "outputs": [
    {
     "data": {
      "text/html": [
       "<style  type=\"text/css\" >\n",
       "</style><table id=\"T_e0b3ac52_a03f_11ea_ba12_02420a39461d\" ><thead>    <tr>        <th class=\"col_heading level0 col0\" >index</th>        <th class=\"col_heading level0 col1\" >call_date</th>        <th class=\"col_heading level0 col2\" >session_date</th>        <th class=\"col_heading level0 col3\" >message_date</th>    </tr></thead><tbody>\n",
       "                <tr>\n",
       "                                <td id=\"T_e0b3ac52_a03f_11ea_ba12_02420a39461drow0_col0\" class=\"data row0 col0\" >2018-01-01 00:00:00</td>\n",
       "                        <td id=\"T_e0b3ac52_a03f_11ea_ba12_02420a39461drow0_col1\" class=\"data row0 col1\" >1476</td>\n",
       "                        <td id=\"T_e0b3ac52_a03f_11ea_ba12_02420a39461drow0_col2\" class=\"data row0 col2\" >1117</td>\n",
       "                        <td id=\"T_e0b3ac52_a03f_11ea_ba12_02420a39461drow0_col3\" class=\"data row0 col3\" >924</td>\n",
       "            </tr>\n",
       "            <tr>\n",
       "                                <td id=\"T_e0b3ac52_a03f_11ea_ba12_02420a39461drow1_col0\" class=\"data row1 col0\" >2018-02-01 00:00:00</td>\n",
       "                        <td id=\"T_e0b3ac52_a03f_11ea_ba12_02420a39461drow1_col1\" class=\"data row1 col1\" >3328</td>\n",
       "                        <td id=\"T_e0b3ac52_a03f_11ea_ba12_02420a39461drow1_col2\" class=\"data row1 col2\" >2641</td>\n",
       "                        <td id=\"T_e0b3ac52_a03f_11ea_ba12_02420a39461drow1_col3\" class=\"data row1 col3\" >1924</td>\n",
       "            </tr>\n",
       "            <tr>\n",
       "                                <td id=\"T_e0b3ac52_a03f_11ea_ba12_02420a39461drow2_col0\" class=\"data row2 col0\" >2018-03-01 00:00:00</td>\n",
       "                        <td id=\"T_e0b3ac52_a03f_11ea_ba12_02420a39461drow2_col1\" class=\"data row2 col1\" >6687</td>\n",
       "                        <td id=\"T_e0b3ac52_a03f_11ea_ba12_02420a39461drow2_col2\" class=\"data row2 col2\" >4885</td>\n",
       "                        <td id=\"T_e0b3ac52_a03f_11ea_ba12_02420a39461drow2_col3\" class=\"data row2 col3\" >3648</td>\n",
       "            </tr>\n",
       "            <tr>\n",
       "                                <td id=\"T_e0b3ac52_a03f_11ea_ba12_02420a39461drow3_col0\" class=\"data row3 col0\" >2018-04-01 00:00:00</td>\n",
       "                        <td id=\"T_e0b3ac52_a03f_11ea_ba12_02420a39461drow3_col1\" class=\"data row3 col1\" >9272</td>\n",
       "                        <td id=\"T_e0b3ac52_a03f_11ea_ba12_02420a39461drow3_col2\" class=\"data row3 col2\" >6511</td>\n",
       "                        <td id=\"T_e0b3ac52_a03f_11ea_ba12_02420a39461drow3_col3\" class=\"data row3 col3\" >5179</td>\n",
       "            </tr>\n",
       "            <tr>\n",
       "                                <td id=\"T_e0b3ac52_a03f_11ea_ba12_02420a39461drow4_col0\" class=\"data row4 col0\" >2018-05-01 00:00:00</td>\n",
       "                        <td id=\"T_e0b3ac52_a03f_11ea_ba12_02420a39461drow4_col1\" class=\"data row4 col1\" >12647</td>\n",
       "                        <td id=\"T_e0b3ac52_a03f_11ea_ba12_02420a39461drow4_col2\" class=\"data row4 col2\" >9408</td>\n",
       "                        <td id=\"T_e0b3ac52_a03f_11ea_ba12_02420a39461drow4_col3\" class=\"data row4 col3\" >7298</td>\n",
       "            </tr>\n",
       "            <tr>\n",
       "                                <td id=\"T_e0b3ac52_a03f_11ea_ba12_02420a39461drow5_col0\" class=\"data row5 col0\" >2018-06-01 00:00:00</td>\n",
       "                        <td id=\"T_e0b3ac52_a03f_11ea_ba12_02420a39461drow5_col1\" class=\"data row5 col1\" >14716</td>\n",
       "                        <td id=\"T_e0b3ac52_a03f_11ea_ba12_02420a39461drow5_col2\" class=\"data row5 col2\" >11057</td>\n",
       "                        <td id=\"T_e0b3ac52_a03f_11ea_ba12_02420a39461drow5_col3\" class=\"data row5 col3\" >8983</td>\n",
       "            </tr>\n",
       "            <tr>\n",
       "                                <td id=\"T_e0b3ac52_a03f_11ea_ba12_02420a39461drow6_col0\" class=\"data row6 col0\" >2018-07-01 00:00:00</td>\n",
       "                        <td id=\"T_e0b3ac52_a03f_11ea_ba12_02420a39461drow6_col1\" class=\"data row6 col1\" >18298</td>\n",
       "                        <td id=\"T_e0b3ac52_a03f_11ea_ba12_02420a39461drow6_col2\" class=\"data row6 col2\" >13548</td>\n",
       "                        <td id=\"T_e0b3ac52_a03f_11ea_ba12_02420a39461drow6_col3\" class=\"data row6 col3\" >11320</td>\n",
       "            </tr>\n",
       "            <tr>\n",
       "                                <td id=\"T_e0b3ac52_a03f_11ea_ba12_02420a39461drow7_col0\" class=\"data row7 col0\" >2018-08-01 00:00:00</td>\n",
       "                        <td id=\"T_e0b3ac52_a03f_11ea_ba12_02420a39461drow7_col1\" class=\"data row7 col1\" >21488</td>\n",
       "                        <td id=\"T_e0b3ac52_a03f_11ea_ba12_02420a39461drow7_col2\" class=\"data row7 col2\" >16092</td>\n",
       "                        <td id=\"T_e0b3ac52_a03f_11ea_ba12_02420a39461drow7_col3\" class=\"data row7 col3\" >13088</td>\n",
       "            </tr>\n",
       "            <tr>\n",
       "                                <td id=\"T_e0b3ac52_a03f_11ea_ba12_02420a39461drow8_col0\" class=\"data row8 col0\" >2018-09-01 00:00:00</td>\n",
       "                        <td id=\"T_e0b3ac52_a03f_11ea_ba12_02420a39461drow8_col1\" class=\"data row8 col1\" >24061</td>\n",
       "                        <td id=\"T_e0b3ac52_a03f_11ea_ba12_02420a39461drow8_col2\" class=\"data row8 col2\" >17512</td>\n",
       "                        <td id=\"T_e0b3ac52_a03f_11ea_ba12_02420a39461drow8_col3\" class=\"data row8 col3\" >14759</td>\n",
       "            </tr>\n",
       "            <tr>\n",
       "                                <td id=\"T_e0b3ac52_a03f_11ea_ba12_02420a39461drow9_col0\" class=\"data row9 col0\" >2018-10-01 00:00:00</td>\n",
       "                        <td id=\"T_e0b3ac52_a03f_11ea_ba12_02420a39461drow9_col1\" class=\"data row9 col1\" >27146</td>\n",
       "                        <td id=\"T_e0b3ac52_a03f_11ea_ba12_02420a39461drow9_col2\" class=\"data row9 col2\" >20009</td>\n",
       "                        <td id=\"T_e0b3ac52_a03f_11ea_ba12_02420a39461drow9_col3\" class=\"data row9 col3\" >17114</td>\n",
       "            </tr>\n",
       "            <tr>\n",
       "                                <td id=\"T_e0b3ac52_a03f_11ea_ba12_02420a39461drow10_col0\" class=\"data row10 col0\" >2018-11-01 00:00:00</td>\n",
       "                        <td id=\"T_e0b3ac52_a03f_11ea_ba12_02420a39461drow10_col1\" class=\"data row10 col1\" >29501</td>\n",
       "                        <td id=\"T_e0b3ac52_a03f_11ea_ba12_02420a39461drow10_col2\" class=\"data row10 col2\" >21817</td>\n",
       "                        <td id=\"T_e0b3ac52_a03f_11ea_ba12_02420a39461drow10_col3\" class=\"data row10 col3\" >18244</td>\n",
       "            </tr>\n",
       "            <tr>\n",
       "                                <td id=\"T_e0b3ac52_a03f_11ea_ba12_02420a39461drow11_col0\" class=\"data row11 col0\" >2018-12-01 00:00:00</td>\n",
       "                        <td id=\"T_e0b3ac52_a03f_11ea_ba12_02420a39461drow11_col1\" class=\"data row11 col1\" >33987</td>\n",
       "                        <td id=\"T_e0b3ac52_a03f_11ea_ba12_02420a39461drow11_col2\" class=\"data row11 col2\" >24799</td>\n",
       "                        <td id=\"T_e0b3ac52_a03f_11ea_ba12_02420a39461drow11_col3\" class=\"data row11 col3\" >20555</td>\n",
       "            </tr>\n",
       "    </tbody></table>"
      ],
      "text/plain": [
       "<pandas.io.formats.style.Styler at 0x7fb594b09b10>"
      ]
     },
     "execution_count": 94,
     "metadata": {},
     "output_type": "execute_result"
    }
   ],
   "source": [
    "d1 = (calls['call_date'].value_counts().to_frame().reset_index().sort_values('index')\n",
    "        .merge(internet['session_date'].value_counts().to_frame().reset_index().sort_values('index'), on='index')\n",
    "     )\n",
    "d2 = d1.merge(messages['message_date'].value_counts().to_frame().reset_index().sort_values('index'), on='index')\n",
    "d2.style.hide_index()"
   ]
  },
  {
   "cell_type": "code",
   "execution_count": 95,
   "metadata": {},
   "outputs": [
    {
     "name": "stdout",
     "output_type": "stream",
     "text": [
      "<class 'pandas.core.frame.DataFrame'>\n",
      "RangeIndex: 500 entries, 0 to 499\n",
      "Data columns (total 8 columns):\n",
      "user_id       500 non-null int64\n",
      "age           500 non-null int64\n",
      "churn_date    38 non-null datetime64[ns]\n",
      "city          500 non-null object\n",
      "first_name    500 non-null object\n",
      "last_name     500 non-null object\n",
      "reg_date      500 non-null datetime64[ns]\n",
      "tariff        500 non-null object\n",
      "dtypes: datetime64[ns](2), int64(2), object(4)\n",
      "memory usage: 31.4+ KB\n"
     ]
    }
   ],
   "source": [
    "users.info()"
   ]
  },
  {
   "cell_type": "markdown",
   "metadata": {},
   "source": [
    "Столбцы преобразованы к формату даты, данные в таблицах `calls`, `internet`, `messages` содержат данные за 2018 год"
   ]
  },
  {
   "cell_type": "markdown",
   "metadata": {},
   "source": [
    "Поскольку оператор связи всегда округляет данные по минутам и мегабайтам вверх, округлим данные в столбцах `duration`, `mb_used` вверх. Поскольку в данных столбцах есть нулевые данные в рамках данного анализа сделаем предположение, что оператор огруглит 0 в сторону 1."
   ]
  },
  {
   "cell_type": "code",
   "execution_count": 96,
   "metadata": {},
   "outputs": [],
   "source": [
    "calls['duration_round'] = np.floor(calls['duration']) + 1\n",
    "internet['mb_used_round'] = np.floor(internet['mb_used']) + 1"
   ]
  },
  {
   "cell_type": "code",
   "execution_count": 97,
   "metadata": {},
   "outputs": [
    {
     "data": {
      "text/html": [
       "<div>\n",
       "<style scoped>\n",
       "    .dataframe tbody tr th:only-of-type {\n",
       "        vertical-align: middle;\n",
       "    }\n",
       "\n",
       "    .dataframe tbody tr th {\n",
       "        vertical-align: top;\n",
       "    }\n",
       "\n",
       "    .dataframe thead th {\n",
       "        text-align: right;\n",
       "    }\n",
       "</style>\n",
       "<table border=\"1\" class=\"dataframe\">\n",
       "  <thead>\n",
       "    <tr style=\"text-align: right;\">\n",
       "      <th></th>\n",
       "      <th>id</th>\n",
       "      <th>call_date</th>\n",
       "      <th>duration</th>\n",
       "      <th>user_id</th>\n",
       "      <th>duration_round</th>\n",
       "    </tr>\n",
       "  </thead>\n",
       "  <tbody>\n",
       "    <tr>\n",
       "      <td>89410</td>\n",
       "      <td>1224_327</td>\n",
       "      <td>2018-11-01</td>\n",
       "      <td>5.0200</td>\n",
       "      <td>1224</td>\n",
       "      <td>6.0000</td>\n",
       "    </tr>\n",
       "    <tr>\n",
       "      <td>180295</td>\n",
       "      <td>1451_169</td>\n",
       "      <td>2018-12-01</td>\n",
       "      <td>15.1600</td>\n",
       "      <td>1451</td>\n",
       "      <td>16.0000</td>\n",
       "    </tr>\n",
       "    <tr>\n",
       "      <td>119724</td>\n",
       "      <td>1309_150</td>\n",
       "      <td>2018-11-01</td>\n",
       "      <td>0.0000</td>\n",
       "      <td>1309</td>\n",
       "      <td>1.0000</td>\n",
       "    </tr>\n",
       "    <tr>\n",
       "      <td>201762</td>\n",
       "      <td>1496_584</td>\n",
       "      <td>2018-02-01</td>\n",
       "      <td>4.7000</td>\n",
       "      <td>1496</td>\n",
       "      <td>5.0000</td>\n",
       "    </tr>\n",
       "    <tr>\n",
       "      <td>11911</td>\n",
       "      <td>1031_92</td>\n",
       "      <td>2018-12-01</td>\n",
       "      <td>8.3600</td>\n",
       "      <td>1031</td>\n",
       "      <td>9.0000</td>\n",
       "    </tr>\n",
       "  </tbody>\n",
       "</table>\n",
       "</div>"
      ],
      "text/plain": [
       "              id  call_date  duration  user_id  duration_round\n",
       "89410   1224_327 2018-11-01    5.0200     1224          6.0000\n",
       "180295  1451_169 2018-12-01   15.1600     1451         16.0000\n",
       "119724  1309_150 2018-11-01    0.0000     1309          1.0000\n",
       "201762  1496_584 2018-02-01    4.7000     1496          5.0000\n",
       "11911    1031_92 2018-12-01    8.3600     1031          9.0000"
      ]
     },
     "execution_count": 97,
     "metadata": {},
     "output_type": "execute_result"
    }
   ],
   "source": [
    "calls.sample(5)"
   ]
  },
  {
   "cell_type": "code",
   "execution_count": 98,
   "metadata": {},
   "outputs": [
    {
     "data": {
      "text/html": [
       "<div>\n",
       "<style scoped>\n",
       "    .dataframe tbody tr th:only-of-type {\n",
       "        vertical-align: middle;\n",
       "    }\n",
       "\n",
       "    .dataframe tbody tr th {\n",
       "        vertical-align: top;\n",
       "    }\n",
       "\n",
       "    .dataframe thead th {\n",
       "        text-align: right;\n",
       "    }\n",
       "</style>\n",
       "<table border=\"1\" class=\"dataframe\">\n",
       "  <thead>\n",
       "    <tr style=\"text-align: right;\">\n",
       "      <th></th>\n",
       "      <th>id</th>\n",
       "      <th>mb_used</th>\n",
       "      <th>session_date</th>\n",
       "      <th>user_id</th>\n",
       "      <th>mb_used_round</th>\n",
       "    </tr>\n",
       "  </thead>\n",
       "  <tbody>\n",
       "    <tr>\n",
       "      <td>58730</td>\n",
       "      <td>1197_365</td>\n",
       "      <td>577.1100</td>\n",
       "      <td>2018-07-01</td>\n",
       "      <td>1197</td>\n",
       "      <td>578.0000</td>\n",
       "    </tr>\n",
       "    <tr>\n",
       "      <td>107706</td>\n",
       "      <td>1366_61</td>\n",
       "      <td>0.4500</td>\n",
       "      <td>2018-09-01</td>\n",
       "      <td>1366</td>\n",
       "      <td>1.0000</td>\n",
       "    </tr>\n",
       "    <tr>\n",
       "      <td>83630</td>\n",
       "      <td>1283_221</td>\n",
       "      <td>916.2600</td>\n",
       "      <td>2018-12-01</td>\n",
       "      <td>1283</td>\n",
       "      <td>917.0000</td>\n",
       "    </tr>\n",
       "    <tr>\n",
       "      <td>136034</td>\n",
       "      <td>1456_183</td>\n",
       "      <td>302.4700</td>\n",
       "      <td>2018-09-01</td>\n",
       "      <td>1456</td>\n",
       "      <td>303.0000</td>\n",
       "    </tr>\n",
       "    <tr>\n",
       "      <td>23471</td>\n",
       "      <td>1079_74</td>\n",
       "      <td>530.5400</td>\n",
       "      <td>2018-11-01</td>\n",
       "      <td>1079</td>\n",
       "      <td>531.0000</td>\n",
       "    </tr>\n",
       "  </tbody>\n",
       "</table>\n",
       "</div>"
      ],
      "text/plain": [
       "              id  mb_used session_date  user_id  mb_used_round\n",
       "58730   1197_365 577.1100   2018-07-01     1197       578.0000\n",
       "107706   1366_61   0.4500   2018-09-01     1366         1.0000\n",
       "83630   1283_221 916.2600   2018-12-01     1283       917.0000\n",
       "136034  1456_183 302.4700   2018-09-01     1456       303.0000\n",
       "23471    1079_74 530.5400   2018-11-01     1079       531.0000"
      ]
     },
     "execution_count": 98,
     "metadata": {},
     "output_type": "execute_result"
    }
   ],
   "source": [
    "internet.sample(5)"
   ]
  },
  {
   "cell_type": "code",
   "execution_count": 99,
   "metadata": {},
   "outputs": [
    {
     "data": {
      "text/html": [
       "<div>\n",
       "<style scoped>\n",
       "    .dataframe tbody tr th:only-of-type {\n",
       "        vertical-align: middle;\n",
       "    }\n",
       "\n",
       "    .dataframe tbody tr th {\n",
       "        vertical-align: top;\n",
       "    }\n",
       "\n",
       "    .dataframe thead th {\n",
       "        text-align: right;\n",
       "    }\n",
       "</style>\n",
       "<table border=\"1\" class=\"dataframe\">\n",
       "  <thead>\n",
       "    <tr style=\"text-align: right;\">\n",
       "      <th></th>\n",
       "      <th>duration</th>\n",
       "      <th>duration_round</th>\n",
       "    </tr>\n",
       "  </thead>\n",
       "  <tbody>\n",
       "    <tr>\n",
       "      <td>count</td>\n",
       "      <td>202607.0000</td>\n",
       "      <td>202607.0000</td>\n",
       "    </tr>\n",
       "    <tr>\n",
       "      <td>mean</td>\n",
       "      <td>6.7559</td>\n",
       "      <td>7.3613</td>\n",
       "    </tr>\n",
       "    <tr>\n",
       "      <td>std</td>\n",
       "      <td>5.8434</td>\n",
       "      <td>5.7354</td>\n",
       "    </tr>\n",
       "    <tr>\n",
       "      <td>min</td>\n",
       "      <td>0.0000</td>\n",
       "      <td>1.0000</td>\n",
       "    </tr>\n",
       "    <tr>\n",
       "      <td>25%</td>\n",
       "      <td>1.3000</td>\n",
       "      <td>2.0000</td>\n",
       "    </tr>\n",
       "    <tr>\n",
       "      <td>50%</td>\n",
       "      <td>6.0000</td>\n",
       "      <td>7.0000</td>\n",
       "    </tr>\n",
       "    <tr>\n",
       "      <td>75%</td>\n",
       "      <td>10.7000</td>\n",
       "      <td>11.0000</td>\n",
       "    </tr>\n",
       "    <tr>\n",
       "      <td>max</td>\n",
       "      <td>38.0000</td>\n",
       "      <td>39.0000</td>\n",
       "    </tr>\n",
       "  </tbody>\n",
       "</table>\n",
       "</div>"
      ],
      "text/plain": [
       "         duration  duration_round\n",
       "count 202607.0000     202607.0000\n",
       "mean       6.7559          7.3613\n",
       "std        5.8434          5.7354\n",
       "min        0.0000          1.0000\n",
       "25%        1.3000          2.0000\n",
       "50%        6.0000          7.0000\n",
       "75%       10.7000         11.0000\n",
       "max       38.0000         39.0000"
      ]
     },
     "execution_count": 99,
     "metadata": {},
     "output_type": "execute_result"
    }
   ],
   "source": [
    "calls[['duration','duration_round']].describe()"
   ]
  },
  {
   "cell_type": "code",
   "execution_count": 100,
   "metadata": {},
   "outputs": [
    {
     "data": {
      "text/html": [
       "<div>\n",
       "<style scoped>\n",
       "    .dataframe tbody tr th:only-of-type {\n",
       "        vertical-align: middle;\n",
       "    }\n",
       "\n",
       "    .dataframe tbody tr th {\n",
       "        vertical-align: top;\n",
       "    }\n",
       "\n",
       "    .dataframe thead th {\n",
       "        text-align: right;\n",
       "    }\n",
       "</style>\n",
       "<table border=\"1\" class=\"dataframe\">\n",
       "  <thead>\n",
       "    <tr style=\"text-align: right;\">\n",
       "      <th></th>\n",
       "      <th>mb_used</th>\n",
       "      <th>mb_used_round</th>\n",
       "    </tr>\n",
       "  </thead>\n",
       "  <tbody>\n",
       "    <tr>\n",
       "      <td>count</td>\n",
       "      <td>149396.0000</td>\n",
       "      <td>149396.0000</td>\n",
       "    </tr>\n",
       "    <tr>\n",
       "      <td>mean</td>\n",
       "      <td>370.1924</td>\n",
       "      <td>370.7622</td>\n",
       "    </tr>\n",
       "    <tr>\n",
       "      <td>std</td>\n",
       "      <td>278.3010</td>\n",
       "      <td>278.2142</td>\n",
       "    </tr>\n",
       "    <tr>\n",
       "      <td>min</td>\n",
       "      <td>0.0000</td>\n",
       "      <td>1.0000</td>\n",
       "    </tr>\n",
       "    <tr>\n",
       "      <td>25%</td>\n",
       "      <td>138.1875</td>\n",
       "      <td>139.0000</td>\n",
       "    </tr>\n",
       "    <tr>\n",
       "      <td>50%</td>\n",
       "      <td>348.0150</td>\n",
       "      <td>349.0000</td>\n",
       "    </tr>\n",
       "    <tr>\n",
       "      <td>75%</td>\n",
       "      <td>559.5525</td>\n",
       "      <td>560.0000</td>\n",
       "    </tr>\n",
       "    <tr>\n",
       "      <td>max</td>\n",
       "      <td>1724.8300</td>\n",
       "      <td>1725.0000</td>\n",
       "    </tr>\n",
       "  </tbody>\n",
       "</table>\n",
       "</div>"
      ],
      "text/plain": [
       "          mb_used  mb_used_round\n",
       "count 149396.0000    149396.0000\n",
       "mean     370.1924       370.7622\n",
       "std      278.3010       278.2142\n",
       "min        0.0000         1.0000\n",
       "25%      138.1875       139.0000\n",
       "50%      348.0150       349.0000\n",
       "75%      559.5525       560.0000\n",
       "max     1724.8300      1725.0000"
      ]
     },
     "execution_count": 100,
     "metadata": {},
     "output_type": "execute_result"
    }
   ],
   "source": [
    "internet[['mb_used','mb_used_round']].describe()"
   ]
  },
  {
   "cell_type": "markdown",
   "metadata": {},
   "source": [
    "После округления вверх значении в столбцах с длительностю разговоров и количеством использованного интернет траика значения ожидаемо сместились в большую сторону."
   ]
  },
  {
   "cell_type": "code",
   "execution_count": 101,
   "metadata": {
    "scrolled": true
   },
   "outputs": [
    {
     "data": {
      "text/html": [
       "<div>\n",
       "<style scoped>\n",
       "    .dataframe tbody tr th:only-of-type {\n",
       "        vertical-align: middle;\n",
       "    }\n",
       "\n",
       "    .dataframe tbody tr th {\n",
       "        vertical-align: top;\n",
       "    }\n",
       "\n",
       "    .dataframe thead th {\n",
       "        text-align: right;\n",
       "    }\n",
       "</style>\n",
       "<table border=\"1\" class=\"dataframe\">\n",
       "  <thead>\n",
       "    <tr style=\"text-align: right;\">\n",
       "      <th></th>\n",
       "      <th>user_id</th>\n",
       "      <th>age</th>\n",
       "      <th>churn_date</th>\n",
       "      <th>city</th>\n",
       "      <th>first_name</th>\n",
       "      <th>last_name</th>\n",
       "      <th>reg_date</th>\n",
       "      <th>tariff</th>\n",
       "      <th>key</th>\n",
       "      <th>month</th>\n",
       "    </tr>\n",
       "  </thead>\n",
       "  <tbody>\n",
       "    <tr>\n",
       "      <td>0</td>\n",
       "      <td>1000</td>\n",
       "      <td>52</td>\n",
       "      <td>NaT</td>\n",
       "      <td>Краснодар</td>\n",
       "      <td>Рафаил</td>\n",
       "      <td>Верещагин</td>\n",
       "      <td>2018-05-25</td>\n",
       "      <td>ultra</td>\n",
       "      <td>1</td>\n",
       "      <td>2018-01-01</td>\n",
       "    </tr>\n",
       "    <tr>\n",
       "      <td>1</td>\n",
       "      <td>1000</td>\n",
       "      <td>52</td>\n",
       "      <td>NaT</td>\n",
       "      <td>Краснодар</td>\n",
       "      <td>Рафаил</td>\n",
       "      <td>Верещагин</td>\n",
       "      <td>2018-05-25</td>\n",
       "      <td>ultra</td>\n",
       "      <td>1</td>\n",
       "      <td>2018-02-01</td>\n",
       "    </tr>\n",
       "    <tr>\n",
       "      <td>2</td>\n",
       "      <td>1000</td>\n",
       "      <td>52</td>\n",
       "      <td>NaT</td>\n",
       "      <td>Краснодар</td>\n",
       "      <td>Рафаил</td>\n",
       "      <td>Верещагин</td>\n",
       "      <td>2018-05-25</td>\n",
       "      <td>ultra</td>\n",
       "      <td>1</td>\n",
       "      <td>2018-03-01</td>\n",
       "    </tr>\n",
       "    <tr>\n",
       "      <td>3</td>\n",
       "      <td>1000</td>\n",
       "      <td>52</td>\n",
       "      <td>NaT</td>\n",
       "      <td>Краснодар</td>\n",
       "      <td>Рафаил</td>\n",
       "      <td>Верещагин</td>\n",
       "      <td>2018-05-25</td>\n",
       "      <td>ultra</td>\n",
       "      <td>1</td>\n",
       "      <td>2018-04-01</td>\n",
       "    </tr>\n",
       "    <tr>\n",
       "      <td>4</td>\n",
       "      <td>1000</td>\n",
       "      <td>52</td>\n",
       "      <td>NaT</td>\n",
       "      <td>Краснодар</td>\n",
       "      <td>Рафаил</td>\n",
       "      <td>Верещагин</td>\n",
       "      <td>2018-05-25</td>\n",
       "      <td>ultra</td>\n",
       "      <td>1</td>\n",
       "      <td>2018-05-01</td>\n",
       "    </tr>\n",
       "  </tbody>\n",
       "</table>\n",
       "</div>"
      ],
      "text/plain": [
       "   user_id  age churn_date       city first_name  last_name   reg_date tariff  \\\n",
       "0     1000   52        NaT  Краснодар     Рафаил  Верещагин 2018-05-25  ultra   \n",
       "1     1000   52        NaT  Краснодар     Рафаил  Верещагин 2018-05-25  ultra   \n",
       "2     1000   52        NaT  Краснодар     Рафаил  Верещагин 2018-05-25  ultra   \n",
       "3     1000   52        NaT  Краснодар     Рафаил  Верещагин 2018-05-25  ultra   \n",
       "4     1000   52        NaT  Краснодар     Рафаил  Верещагин 2018-05-25  ultra   \n",
       "\n",
       "   key      month  \n",
       "0    1 2018-01-01  \n",
       "1    1 2018-02-01  \n",
       "2    1 2018-03-01  \n",
       "3    1 2018-04-01  \n",
       "4    1 2018-05-01  "
      ]
     },
     "execution_count": 101,
     "metadata": {},
     "output_type": "execute_result"
    }
   ],
   "source": [
    "# Создаем таблицу, которая в дальнейшем будет заполняться данными\n",
    "# Таблица будет содержать всех пользователей и месяца, \n",
    "# т.е. ее размер первоначально будет 500 (число пользователей в выборке) * 12 (число месяцев в 2018 году) = 6000\n",
    "d3 = pd.DataFrame(pd.date_range(calls['call_date'].min(),calls['call_date'].max(),freq='MS'))\n",
    "d3.columns = ['month']\n",
    "d3['key'] = 1\n",
    "users['key'] = 1\n",
    "data = users.merge(d3, on='key')\n",
    "data.head()"
   ]
  },
  {
   "cell_type": "code",
   "execution_count": 102,
   "metadata": {},
   "outputs": [
    {
     "data": {
      "text/plain": [
       "6000"
      ]
     },
     "execution_count": 102,
     "metadata": {},
     "output_type": "execute_result"
    }
   ],
   "source": [
    "len(data)"
   ]
  },
  {
   "cell_type": "markdown",
   "metadata": {},
   "source": [
    "Получили трубуемую таблицу. Убираем строки в которых дата регистрации пользователя позднее чем месяц в столбце `month` "
   ]
  },
  {
   "cell_type": "code",
   "execution_count": 103,
   "metadata": {
    "scrolled": true
   },
   "outputs": [
    {
     "data": {
      "text/html": [
       "<div>\n",
       "<style scoped>\n",
       "    .dataframe tbody tr th:only-of-type {\n",
       "        vertical-align: middle;\n",
       "    }\n",
       "\n",
       "    .dataframe tbody tr th {\n",
       "        vertical-align: top;\n",
       "    }\n",
       "\n",
       "    .dataframe thead th {\n",
       "        text-align: right;\n",
       "    }\n",
       "</style>\n",
       "<table border=\"1\" class=\"dataframe\">\n",
       "  <thead>\n",
       "    <tr style=\"text-align: right;\">\n",
       "      <th></th>\n",
       "      <th>user_id</th>\n",
       "      <th>age</th>\n",
       "      <th>churn_date</th>\n",
       "      <th>city</th>\n",
       "      <th>first_name</th>\n",
       "      <th>last_name</th>\n",
       "      <th>reg_date</th>\n",
       "      <th>tariff</th>\n",
       "      <th>key</th>\n",
       "      <th>month</th>\n",
       "      <th>reg_month</th>\n",
       "      <th>churn_month</th>\n",
       "    </tr>\n",
       "  </thead>\n",
       "  <tbody>\n",
       "    <tr>\n",
       "      <td>4</td>\n",
       "      <td>1000</td>\n",
       "      <td>52</td>\n",
       "      <td>NaT</td>\n",
       "      <td>Краснодар</td>\n",
       "      <td>Рафаил</td>\n",
       "      <td>Верещагин</td>\n",
       "      <td>2018-05-25</td>\n",
       "      <td>ultra</td>\n",
       "      <td>1</td>\n",
       "      <td>2018-05-01</td>\n",
       "      <td>2018-05-01</td>\n",
       "      <td>NaT</td>\n",
       "    </tr>\n",
       "    <tr>\n",
       "      <td>5</td>\n",
       "      <td>1000</td>\n",
       "      <td>52</td>\n",
       "      <td>NaT</td>\n",
       "      <td>Краснодар</td>\n",
       "      <td>Рафаил</td>\n",
       "      <td>Верещагин</td>\n",
       "      <td>2018-05-25</td>\n",
       "      <td>ultra</td>\n",
       "      <td>1</td>\n",
       "      <td>2018-06-01</td>\n",
       "      <td>2018-05-01</td>\n",
       "      <td>NaT</td>\n",
       "    </tr>\n",
       "    <tr>\n",
       "      <td>6</td>\n",
       "      <td>1000</td>\n",
       "      <td>52</td>\n",
       "      <td>NaT</td>\n",
       "      <td>Краснодар</td>\n",
       "      <td>Рафаил</td>\n",
       "      <td>Верещагин</td>\n",
       "      <td>2018-05-25</td>\n",
       "      <td>ultra</td>\n",
       "      <td>1</td>\n",
       "      <td>2018-07-01</td>\n",
       "      <td>2018-05-01</td>\n",
       "      <td>NaT</td>\n",
       "    </tr>\n",
       "    <tr>\n",
       "      <td>7</td>\n",
       "      <td>1000</td>\n",
       "      <td>52</td>\n",
       "      <td>NaT</td>\n",
       "      <td>Краснодар</td>\n",
       "      <td>Рафаил</td>\n",
       "      <td>Верещагин</td>\n",
       "      <td>2018-05-25</td>\n",
       "      <td>ultra</td>\n",
       "      <td>1</td>\n",
       "      <td>2018-08-01</td>\n",
       "      <td>2018-05-01</td>\n",
       "      <td>NaT</td>\n",
       "    </tr>\n",
       "    <tr>\n",
       "      <td>8</td>\n",
       "      <td>1000</td>\n",
       "      <td>52</td>\n",
       "      <td>NaT</td>\n",
       "      <td>Краснодар</td>\n",
       "      <td>Рафаил</td>\n",
       "      <td>Верещагин</td>\n",
       "      <td>2018-05-25</td>\n",
       "      <td>ultra</td>\n",
       "      <td>1</td>\n",
       "      <td>2018-09-01</td>\n",
       "      <td>2018-05-01</td>\n",
       "      <td>NaT</td>\n",
       "    </tr>\n",
       "  </tbody>\n",
       "</table>\n",
       "</div>"
      ],
      "text/plain": [
       "   user_id  age churn_date       city first_name  last_name   reg_date tariff  \\\n",
       "4     1000   52        NaT  Краснодар     Рафаил  Верещагин 2018-05-25  ultra   \n",
       "5     1000   52        NaT  Краснодар     Рафаил  Верещагин 2018-05-25  ultra   \n",
       "6     1000   52        NaT  Краснодар     Рафаил  Верещагин 2018-05-25  ultra   \n",
       "7     1000   52        NaT  Краснодар     Рафаил  Верещагин 2018-05-25  ultra   \n",
       "8     1000   52        NaT  Краснодар     Рафаил  Верещагин 2018-05-25  ultra   \n",
       "\n",
       "   key      month  reg_month churn_month  \n",
       "4    1 2018-05-01 2018-05-01         NaT  \n",
       "5    1 2018-06-01 2018-05-01         NaT  \n",
       "6    1 2018-07-01 2018-05-01         NaT  \n",
       "7    1 2018-08-01 2018-05-01         NaT  \n",
       "8    1 2018-09-01 2018-05-01         NaT  "
      ]
     },
     "execution_count": 103,
     "metadata": {},
     "output_type": "execute_result"
    }
   ],
   "source": [
    "data['reg_month'] = data['reg_date'].values.astype('datetime64[M]')\n",
    "data['churn_month'] = data['churn_date'].values.astype('datetime64[M]')\n",
    "data = data[(data['month'] >= data['reg_month']) & ((data['month'] <= data['churn_month']) | (data['churn_date'].isna()))]\n",
    "data.head()"
   ]
  },
  {
   "cell_type": "code",
   "execution_count": 104,
   "metadata": {},
   "outputs": [
    {
     "data": {
      "text/plain": [
       "3216"
      ]
     },
     "execution_count": 104,
     "metadata": {},
     "output_type": "execute_result"
    }
   ],
   "source": [
    "len(data)"
   ]
  },
  {
   "cell_type": "code",
   "execution_count": 105,
   "metadata": {},
   "outputs": [
    {
     "data": {
      "text/html": [
       "<div>\n",
       "<style scoped>\n",
       "    .dataframe tbody tr th:only-of-type {\n",
       "        vertical-align: middle;\n",
       "    }\n",
       "\n",
       "    .dataframe tbody tr th {\n",
       "        vertical-align: top;\n",
       "    }\n",
       "\n",
       "    .dataframe thead th {\n",
       "        text-align: right;\n",
       "    }\n",
       "</style>\n",
       "<table border=\"1\" class=\"dataframe\">\n",
       "  <thead>\n",
       "    <tr style=\"text-align: right;\">\n",
       "      <th></th>\n",
       "      <th>user_id</th>\n",
       "      <th>age</th>\n",
       "      <th>churn_date</th>\n",
       "      <th>city</th>\n",
       "      <th>first_name</th>\n",
       "      <th>last_name</th>\n",
       "      <th>reg_date</th>\n",
       "      <th>tariff</th>\n",
       "      <th>key</th>\n",
       "      <th>month</th>\n",
       "      <th>reg_month</th>\n",
       "      <th>churn_month</th>\n",
       "      <th>duration_round</th>\n",
       "      <th>mb_used_round</th>\n",
       "      <th>sms</th>\n",
       "    </tr>\n",
       "  </thead>\n",
       "  <tbody>\n",
       "    <tr>\n",
       "      <td>3208</td>\n",
       "      <td>1498</td>\n",
       "      <td>68</td>\n",
       "      <td>2018-10-25</td>\n",
       "      <td>Владикавказ</td>\n",
       "      <td>Всеволод</td>\n",
       "      <td>Акимчин</td>\n",
       "      <td>2018-07-19</td>\n",
       "      <td>smart</td>\n",
       "      <td>1</td>\n",
       "      <td>2018-07-01</td>\n",
       "      <td>2018-07-01</td>\n",
       "      <td>2018-10-01</td>\n",
       "      <td>178.0000</td>\n",
       "      <td>7488.0000</td>\n",
       "      <td>20.0000</td>\n",
       "    </tr>\n",
       "    <tr>\n",
       "      <td>3209</td>\n",
       "      <td>1498</td>\n",
       "      <td>68</td>\n",
       "      <td>2018-10-25</td>\n",
       "      <td>Владикавказ</td>\n",
       "      <td>Всеволод</td>\n",
       "      <td>Акимчин</td>\n",
       "      <td>2018-07-19</td>\n",
       "      <td>smart</td>\n",
       "      <td>1</td>\n",
       "      <td>2018-08-01</td>\n",
       "      <td>2018-07-01</td>\n",
       "      <td>2018-10-01</td>\n",
       "      <td>414.0000</td>\n",
       "      <td>24282.0000</td>\n",
       "      <td>62.0000</td>\n",
       "    </tr>\n",
       "    <tr>\n",
       "      <td>3210</td>\n",
       "      <td>1498</td>\n",
       "      <td>68</td>\n",
       "      <td>2018-10-25</td>\n",
       "      <td>Владикавказ</td>\n",
       "      <td>Всеволод</td>\n",
       "      <td>Акимчин</td>\n",
       "      <td>2018-07-19</td>\n",
       "      <td>smart</td>\n",
       "      <td>1</td>\n",
       "      <td>2018-09-01</td>\n",
       "      <td>2018-07-01</td>\n",
       "      <td>2018-10-01</td>\n",
       "      <td>477.0000</td>\n",
       "      <td>22188.0000</td>\n",
       "      <td>44.0000</td>\n",
       "    </tr>\n",
       "    <tr>\n",
       "      <td>3211</td>\n",
       "      <td>1498</td>\n",
       "      <td>68</td>\n",
       "      <td>2018-10-25</td>\n",
       "      <td>Владикавказ</td>\n",
       "      <td>Всеволод</td>\n",
       "      <td>Акимчин</td>\n",
       "      <td>2018-07-19</td>\n",
       "      <td>smart</td>\n",
       "      <td>1</td>\n",
       "      <td>2018-10-01</td>\n",
       "      <td>2018-07-01</td>\n",
       "      <td>2018-10-01</td>\n",
       "      <td>259.0000</td>\n",
       "      <td>20614.0000</td>\n",
       "      <td>42.0000</td>\n",
       "    </tr>\n",
       "  </tbody>\n",
       "</table>\n",
       "</div>"
      ],
      "text/plain": [
       "      user_id  age churn_date         city first_name last_name   reg_date  \\\n",
       "3208     1498   68 2018-10-25  Владикавказ   Всеволод   Акимчин 2018-07-19   \n",
       "3209     1498   68 2018-10-25  Владикавказ   Всеволод   Акимчин 2018-07-19   \n",
       "3210     1498   68 2018-10-25  Владикавказ   Всеволод   Акимчин 2018-07-19   \n",
       "3211     1498   68 2018-10-25  Владикавказ   Всеволод   Акимчин 2018-07-19   \n",
       "\n",
       "     tariff  key      month  reg_month churn_month  duration_round  \\\n",
       "3208  smart    1 2018-07-01 2018-07-01  2018-10-01        178.0000   \n",
       "3209  smart    1 2018-08-01 2018-07-01  2018-10-01        414.0000   \n",
       "3210  smart    1 2018-09-01 2018-07-01  2018-10-01        477.0000   \n",
       "3211  smart    1 2018-10-01 2018-07-01  2018-10-01        259.0000   \n",
       "\n",
       "      mb_used_round     sms  \n",
       "3208      7488.0000 20.0000  \n",
       "3209     24282.0000 62.0000  \n",
       "3210     22188.0000 44.0000  \n",
       "3211     20614.0000 42.0000  "
      ]
     },
     "execution_count": 105,
     "metadata": {},
     "output_type": "execute_result"
    }
   ],
   "source": [
    "# Объединяем все данные в общую таблицу\n",
    "calls_group = calls.groupby(['user_id','call_date']).agg({'duration_round':'sum'}).reset_index()\n",
    "calls_group.columns = ['user_id','month','duration_round']\n",
    "internet_group = internet.groupby(['user_id','session_date']).agg({'mb_used_round':'sum'}).reset_index()\n",
    "internet_group.columns = ['user_id','month','mb_used_round']\n",
    "messages_group = messages.groupby(['user_id','message_date']).agg({'id':'count'}).reset_index()\n",
    "messages_group.columns = ['user_id','month','sms']\n",
    "data = data.merge(calls_group, how='left', on=['user_id','month'])\n",
    "data = data.merge(internet_group, how='left', on=['user_id','month'])\n",
    "data = data.merge(messages_group, how='left', on=['user_id','month'])\n",
    "data[data['user_id'] == 1498]"
   ]
  },
  {
   "cell_type": "code",
   "execution_count": 106,
   "metadata": {},
   "outputs": [],
   "source": [
    "# Добавляем данные о тарифе\n",
    "tariffs.rename(columns={'tariff_name' : 'tariff'}, inplace=True)\n",
    "data = data.merge(tariffs, how='left', on='tariff')"
   ]
  },
  {
   "cell_type": "code",
   "execution_count": 107,
   "metadata": {},
   "outputs": [
    {
     "name": "stdout",
     "output_type": "stream",
     "text": [
      "<class 'pandas.core.frame.DataFrame'>\n",
      "Int64Index: 3216 entries, 0 to 3215\n",
      "Data columns (total 22 columns):\n",
      "user_id                  3216 non-null int64\n",
      "age                      3216 non-null int64\n",
      "churn_date               189 non-null datetime64[ns]\n",
      "city                     3216 non-null object\n",
      "first_name               3216 non-null object\n",
      "last_name                3216 non-null object\n",
      "reg_date                 3216 non-null datetime64[ns]\n",
      "tariff                   3216 non-null object\n",
      "key                      3216 non-null int64\n",
      "month                    3216 non-null datetime64[ns]\n",
      "reg_month                3216 non-null datetime64[ns]\n",
      "churn_month              189 non-null datetime64[ns]\n",
      "duration_round           3174 non-null float64\n",
      "mb_used_round            3203 non-null float64\n",
      "sms                      2717 non-null float64\n",
      "messages_included        3216 non-null int64\n",
      "mb_per_month_included    3216 non-null int64\n",
      "minutes_included         3216 non-null int64\n",
      "rub_monthly_fee          3216 non-null int64\n",
      "rub_per_gb               3216 non-null int64\n",
      "rub_per_message          3216 non-null int64\n",
      "rub_per_minute           3216 non-null int64\n",
      "dtypes: datetime64[ns](5), float64(3), int64(10), object(4)\n",
      "memory usage: 577.9+ KB\n"
     ]
    }
   ],
   "source": [
    "data.info()"
   ]
  },
  {
   "cell_type": "markdown",
   "metadata": {},
   "source": [
    "По всей видимости есть пользователи, которые не пользуются одновременно всеми услугами оператора (звонки, СМС, интернет), проверим есть ли пользователи, которые вообще не пользовались какими либо услугами оператора за месяц."
   ]
  },
  {
   "cell_type": "code",
   "execution_count": 108,
   "metadata": {},
   "outputs": [],
   "source": [
    "# Заменяем пропуски на нули\n",
    "data['duration_round'] = data['duration_round'].fillna(0)\n",
    "data['mb_used_round'] = data['mb_used_round'].fillna(0)\n",
    "data['sms'] = data['sms'].fillna(0)"
   ]
  },
  {
   "cell_type": "code",
   "execution_count": 109,
   "metadata": {},
   "outputs": [
    {
     "data": {
      "text/html": [
       "<div>\n",
       "<style scoped>\n",
       "    .dataframe tbody tr th:only-of-type {\n",
       "        vertical-align: middle;\n",
       "    }\n",
       "\n",
       "    .dataframe tbody tr th {\n",
       "        vertical-align: top;\n",
       "    }\n",
       "\n",
       "    .dataframe thead th {\n",
       "        text-align: right;\n",
       "    }\n",
       "</style>\n",
       "<table border=\"1\" class=\"dataframe\">\n",
       "  <thead>\n",
       "    <tr style=\"text-align: right;\">\n",
       "      <th></th>\n",
       "      <th>user_id</th>\n",
       "      <th>age</th>\n",
       "      <th>churn_date</th>\n",
       "      <th>city</th>\n",
       "      <th>first_name</th>\n",
       "      <th>last_name</th>\n",
       "      <th>reg_date</th>\n",
       "      <th>tariff</th>\n",
       "      <th>key</th>\n",
       "      <th>month</th>\n",
       "      <th>...</th>\n",
       "      <th>duration_round</th>\n",
       "      <th>mb_used_round</th>\n",
       "      <th>sms</th>\n",
       "      <th>messages_included</th>\n",
       "      <th>mb_per_month_included</th>\n",
       "      <th>minutes_included</th>\n",
       "      <th>rub_monthly_fee</th>\n",
       "      <th>rub_per_gb</th>\n",
       "      <th>rub_per_message</th>\n",
       "      <th>rub_per_minute</th>\n",
       "    </tr>\n",
       "  </thead>\n",
       "  <tbody>\n",
       "    <tr>\n",
       "      <td>827</td>\n",
       "      <td>1128</td>\n",
       "      <td>51</td>\n",
       "      <td>2018-12-23</td>\n",
       "      <td>Волжский</td>\n",
       "      <td>Ксения</td>\n",
       "      <td>Агаева</td>\n",
       "      <td>2018-12-15</td>\n",
       "      <td>ultra</td>\n",
       "      <td>1</td>\n",
       "      <td>2018-12-01</td>\n",
       "      <td>...</td>\n",
       "      <td>0.0000</td>\n",
       "      <td>0.0000</td>\n",
       "      <td>0.0000</td>\n",
       "      <td>1000</td>\n",
       "      <td>30720</td>\n",
       "      <td>3000</td>\n",
       "      <td>1950</td>\n",
       "      <td>150</td>\n",
       "      <td>1</td>\n",
       "      <td>1</td>\n",
       "    </tr>\n",
       "    <tr>\n",
       "      <td>2335</td>\n",
       "      <td>1371</td>\n",
       "      <td>50</td>\n",
       "      <td>2018-12-30</td>\n",
       "      <td>Омск</td>\n",
       "      <td>Ириней</td>\n",
       "      <td>Трофимов</td>\n",
       "      <td>2018-12-25</td>\n",
       "      <td>smart</td>\n",
       "      <td>1</td>\n",
       "      <td>2018-12-01</td>\n",
       "      <td>...</td>\n",
       "      <td>0.0000</td>\n",
       "      <td>0.0000</td>\n",
       "      <td>0.0000</td>\n",
       "      <td>50</td>\n",
       "      <td>15360</td>\n",
       "      <td>500</td>\n",
       "      <td>550</td>\n",
       "      <td>200</td>\n",
       "      <td>3</td>\n",
       "      <td>3</td>\n",
       "    </tr>\n",
       "  </tbody>\n",
       "</table>\n",
       "<p>2 rows × 22 columns</p>\n",
       "</div>"
      ],
      "text/plain": [
       "      user_id  age churn_date      city first_name last_name   reg_date  \\\n",
       "827      1128   51 2018-12-23  Волжский     Ксения    Агаева 2018-12-15   \n",
       "2335     1371   50 2018-12-30      Омск     Ириней  Трофимов 2018-12-25   \n",
       "\n",
       "     tariff  key      month  ... duration_round mb_used_round    sms  \\\n",
       "827   ultra    1 2018-12-01  ...         0.0000        0.0000 0.0000   \n",
       "2335  smart    1 2018-12-01  ...         0.0000        0.0000 0.0000   \n",
       "\n",
       "      messages_included  mb_per_month_included  minutes_included  \\\n",
       "827                1000                  30720              3000   \n",
       "2335                 50                  15360               500   \n",
       "\n",
       "      rub_monthly_fee  rub_per_gb  rub_per_message  rub_per_minute  \n",
       "827              1950         150                1               1  \n",
       "2335              550         200                3               3  \n",
       "\n",
       "[2 rows x 22 columns]"
      ]
     },
     "execution_count": 109,
     "metadata": {},
     "output_type": "execute_result"
    }
   ],
   "source": [
    "data[(data['duration_round'] == 0) & (data['mb_used_round'] == 0) & (data['sms'] == 0)]"
   ]
  },
  {
   "cell_type": "markdown",
   "metadata": {},
   "source": [
    "Есть два клиента, которые подключились и отключились в одном месяце. В рамках данного анализа сделаем предположение, что оператор в любом случае списал с данных клиентов абонентскую плату за месяц."
   ]
  },
  {
   "cell_type": "code",
   "execution_count": 110,
   "metadata": {},
   "outputs": [
    {
     "name": "stdout",
     "output_type": "stream",
     "text": [
      "<class 'pandas.core.frame.DataFrame'>\n",
      "Int64Index: 3216 entries, 0 to 3215\n",
      "Data columns (total 22 columns):\n",
      "user_id                  3216 non-null int64\n",
      "age                      3216 non-null int64\n",
      "churn_date               189 non-null datetime64[ns]\n",
      "city                     3216 non-null object\n",
      "first_name               3216 non-null object\n",
      "last_name                3216 non-null object\n",
      "reg_date                 3216 non-null datetime64[ns]\n",
      "tariff                   3216 non-null object\n",
      "key                      3216 non-null int64\n",
      "month                    3216 non-null datetime64[ns]\n",
      "reg_month                3216 non-null datetime64[ns]\n",
      "churn_month              189 non-null datetime64[ns]\n",
      "duration_round           3216 non-null float64\n",
      "mb_used_round            3216 non-null float64\n",
      "sms                      3216 non-null float64\n",
      "messages_included        3216 non-null int64\n",
      "mb_per_month_included    3216 non-null int64\n",
      "minutes_included         3216 non-null int64\n",
      "rub_monthly_fee          3216 non-null int64\n",
      "rub_per_gb               3216 non-null int64\n",
      "rub_per_message          3216 non-null int64\n",
      "rub_per_minute           3216 non-null int64\n",
      "dtypes: datetime64[ns](5), float64(3), int64(10), object(4)\n",
      "memory usage: 577.9+ KB\n"
     ]
    }
   ],
   "source": [
    "data.info()"
   ]
  },
  {
   "cell_type": "markdown",
   "metadata": {},
   "source": [
    "Рассчитаем доходы оператора, полученные от каждого клиента"
   ]
  },
  {
   "cell_type": "code",
   "execution_count": 111,
   "metadata": {},
   "outputs": [
    {
     "data": {
      "text/html": [
       "<div>\n",
       "<style scoped>\n",
       "    .dataframe tbody tr th:only-of-type {\n",
       "        vertical-align: middle;\n",
       "    }\n",
       "\n",
       "    .dataframe tbody tr th {\n",
       "        vertical-align: top;\n",
       "    }\n",
       "\n",
       "    .dataframe thead th {\n",
       "        text-align: right;\n",
       "    }\n",
       "</style>\n",
       "<table border=\"1\" class=\"dataframe\">\n",
       "  <thead>\n",
       "    <tr style=\"text-align: right;\">\n",
       "      <th></th>\n",
       "      <th>user_id</th>\n",
       "      <th>rub_monthly_fee</th>\n",
       "      <th>duration_round</th>\n",
       "      <th>minutes_included</th>\n",
       "      <th>over_minutes</th>\n",
       "      <th>mb_used_round</th>\n",
       "      <th>mb_per_month_included</th>\n",
       "      <th>over_mb</th>\n",
       "      <th>sms</th>\n",
       "      <th>messages_included</th>\n",
       "      <th>over_sms</th>\n",
       "      <th>revenue</th>\n",
       "      <th>over_fee</th>\n",
       "    </tr>\n",
       "  </thead>\n",
       "  <tbody>\n",
       "    <tr>\n",
       "      <td>3211</td>\n",
       "      <td>1498</td>\n",
       "      <td>550</td>\n",
       "      <td>259.0000</td>\n",
       "      <td>500</td>\n",
       "      <td>-0.0000</td>\n",
       "      <td>20614.0000</td>\n",
       "      <td>15360</td>\n",
       "      <td>5254.0000</td>\n",
       "      <td>42.0000</td>\n",
       "      <td>50</td>\n",
       "      <td>-0.0000</td>\n",
       "      <td>1750.0000</td>\n",
       "      <td>1200.0000</td>\n",
       "    </tr>\n",
       "    <tr>\n",
       "      <td>3212</td>\n",
       "      <td>1499</td>\n",
       "      <td>550</td>\n",
       "      <td>71.0000</td>\n",
       "      <td>500</td>\n",
       "      <td>-0.0000</td>\n",
       "      <td>1849.0000</td>\n",
       "      <td>15360</td>\n",
       "      <td>-0.0000</td>\n",
       "      <td>11.0000</td>\n",
       "      <td>50</td>\n",
       "      <td>-0.0000</td>\n",
       "      <td>550.0000</td>\n",
       "      <td>0.0000</td>\n",
       "    </tr>\n",
       "    <tr>\n",
       "      <td>3213</td>\n",
       "      <td>1499</td>\n",
       "      <td>550</td>\n",
       "      <td>474.0000</td>\n",
       "      <td>500</td>\n",
       "      <td>-0.0000</td>\n",
       "      <td>17824.0000</td>\n",
       "      <td>15360</td>\n",
       "      <td>2464.0000</td>\n",
       "      <td>48.0000</td>\n",
       "      <td>50</td>\n",
       "      <td>-0.0000</td>\n",
       "      <td>1150.0000</td>\n",
       "      <td>600.0000</td>\n",
       "    </tr>\n",
       "    <tr>\n",
       "      <td>3214</td>\n",
       "      <td>1499</td>\n",
       "      <td>550</td>\n",
       "      <td>624.0000</td>\n",
       "      <td>500</td>\n",
       "      <td>124.0000</td>\n",
       "      <td>17994.0000</td>\n",
       "      <td>15360</td>\n",
       "      <td>2634.0000</td>\n",
       "      <td>59.0000</td>\n",
       "      <td>50</td>\n",
       "      <td>9.0000</td>\n",
       "      <td>1549.0000</td>\n",
       "      <td>999.0000</td>\n",
       "    </tr>\n",
       "    <tr>\n",
       "      <td>3215</td>\n",
       "      <td>1499</td>\n",
       "      <td>550</td>\n",
       "      <td>505.0000</td>\n",
       "      <td>500</td>\n",
       "      <td>5.0000</td>\n",
       "      <td>13082.0000</td>\n",
       "      <td>15360</td>\n",
       "      <td>-0.0000</td>\n",
       "      <td>66.0000</td>\n",
       "      <td>50</td>\n",
       "      <td>16.0000</td>\n",
       "      <td>613.0000</td>\n",
       "      <td>63.0000</td>\n",
       "    </tr>\n",
       "  </tbody>\n",
       "</table>\n",
       "</div>"
      ],
      "text/plain": [
       "      user_id  rub_monthly_fee  duration_round  minutes_included  \\\n",
       "3211     1498              550        259.0000               500   \n",
       "3212     1499              550         71.0000               500   \n",
       "3213     1499              550        474.0000               500   \n",
       "3214     1499              550        624.0000               500   \n",
       "3215     1499              550        505.0000               500   \n",
       "\n",
       "      over_minutes  mb_used_round  mb_per_month_included   over_mb     sms  \\\n",
       "3211       -0.0000     20614.0000                  15360 5254.0000 42.0000   \n",
       "3212       -0.0000      1849.0000                  15360   -0.0000 11.0000   \n",
       "3213       -0.0000     17824.0000                  15360 2464.0000 48.0000   \n",
       "3214      124.0000     17994.0000                  15360 2634.0000 59.0000   \n",
       "3215        5.0000     13082.0000                  15360   -0.0000 66.0000   \n",
       "\n",
       "      messages_included  over_sms   revenue  over_fee  \n",
       "3211                 50   -0.0000 1750.0000 1200.0000  \n",
       "3212                 50   -0.0000  550.0000    0.0000  \n",
       "3213                 50   -0.0000 1150.0000  600.0000  \n",
       "3214                 50    9.0000 1549.0000  999.0000  \n",
       "3215                 50   16.0000  613.0000   63.0000  "
      ]
     },
     "execution_count": 111,
     "metadata": {},
     "output_type": "execute_result"
    }
   ],
   "source": [
    "def rev(row):\n",
    "    revenue = 0\n",
    "    revenue += row['rub_monthly_fee']\n",
    "    if row['duration_round'] > row['minutes_included']:\n",
    "        revenue += (row['duration_round'] - row['minutes_included']) * row['rub_per_minute']\n",
    "    if row['mb_used_round'] > row['mb_per_month_included']:\n",
    "        revenue += (np.ceil((row['mb_used_round'] - row['mb_per_month_included']) / 1024)) * row['rub_per_gb']\n",
    "    if row['sms'] > row['messages_included']:\n",
    "        revenue += (row['sms'] - row['messages_included']) * row['rub_per_message']\n",
    "    return revenue\n",
    "data['revenue'] = data.apply(rev, axis=1)\n",
    "# Добавляем несколько вспомогательных столбцов для дальнейшего анализа\n",
    "data['over_fee'] = data['revenue'] - data['rub_monthly_fee']\n",
    "data['over_minutes'] = (data['duration_round'] > data['minutes_included']) * 1 * ((data['duration_round'] - data['minutes_included']))\n",
    "data['over_mb'] = (data['mb_used_round'] > data['mb_per_month_included']) * 1 * (data['mb_used_round'] - data['mb_per_month_included'])\n",
    "data['over_sms'] = (data['sms'] > data['messages_included']) * 1 * (data['sms'] - data['messages_included'])\n",
    "# Просматриваем результат\n",
    "data[['user_id','rub_monthly_fee','duration_round','minutes_included','over_minutes','mb_used_round','mb_per_month_included','over_mb','sms','messages_included','over_sms','revenue','over_fee']].tail()"
   ]
  },
  {
   "cell_type": "markdown",
   "metadata": {},
   "source": [
    "Создана общая таблица для дальнейшего анализа данных."
   ]
  },
  {
   "cell_type": "markdown",
   "metadata": {},
   "source": [
    "## Анализ данных <a class=\"anchor\" id=\"third-bullet\"></a>"
   ]
  },
  {
   "cell_type": "code",
   "execution_count": 112,
   "metadata": {},
   "outputs": [
    {
     "data": {
      "text/html": [
       "<div>\n",
       "<style scoped>\n",
       "    .dataframe tbody tr th:only-of-type {\n",
       "        vertical-align: middle;\n",
       "    }\n",
       "\n",
       "    .dataframe tbody tr th {\n",
       "        vertical-align: top;\n",
       "    }\n",
       "\n",
       "    .dataframe thead th {\n",
       "        text-align: right;\n",
       "    }\n",
       "</style>\n",
       "<table border=\"1\" class=\"dataframe\">\n",
       "  <thead>\n",
       "    <tr style=\"text-align: right;\">\n",
       "      <th></th>\n",
       "      <th>duration_round</th>\n",
       "      <th>over_minutes</th>\n",
       "    </tr>\n",
       "    <tr>\n",
       "      <th>tariff</th>\n",
       "      <th></th>\n",
       "      <th></th>\n",
       "    </tr>\n",
       "  </thead>\n",
       "  <tbody>\n",
       "    <tr>\n",
       "      <td>smart</td>\n",
       "      <td>429.7148</td>\n",
       "      <td>47.4830</td>\n",
       "    </tr>\n",
       "    <tr>\n",
       "      <td>ultra</td>\n",
       "      <td>540.7677</td>\n",
       "      <td>0.0000</td>\n",
       "    </tr>\n",
       "  </tbody>\n",
       "</table>\n",
       "</div>"
      ],
      "text/plain": [
       "        duration_round  over_minutes\n",
       "tariff                              \n",
       "smart         429.7148       47.4830\n",
       "ultra         540.7677        0.0000"
      ]
     },
     "execution_count": 112,
     "metadata": {},
     "output_type": "execute_result"
    }
   ],
   "source": [
    "data.pivot_table(index=['tariff'], values=['duration_round','over_minutes'], aggfunc='mean')"
   ]
  },
  {
   "cell_type": "code",
   "execution_count": 113,
   "metadata": {},
   "outputs": [
    {
     "data": {
      "image/png": "[encoded data removed]",
      "text/plain": [
       "<Figure size 720x360 with 1 Axes>"
      ]
     },
     "metadata": {},
     "output_type": "display_data"
    }
   ],
   "source": [
    "data.pivot_table(index='month', columns='tariff', values='duration_round', aggfunc='mean').plot(linewidth=5, figsize=(10,5))\n",
    "plt.title('Динамика использования минут на разных тарифах')\n",
    "plt.ylabel('Минуты на 1 клиента в мес., мин')\n",
    "plt.style.use('fivethirtyeight')\n",
    "plt.show()"
   ]
  },
  {
   "cell_type": "code",
   "execution_count": 114,
   "metadata": {},
   "outputs": [
    {
     "data": {
      "image/png": "[encoded data removed]",
      "text/plain": [
       "<Figure size 720x360 with 1 Axes>"
      ]
     },
     "metadata": {},
     "output_type": "display_data"
    }
   ],
   "source": [
    "data.pivot_table(index=['user_id','month'], columns='tariff', values='duration_round', aggfunc='mean') \\\n",
    "    .plot(kind='hist', histtype='step', bins=20, linewidth=5, figsize=(10,5), alpha=0.7, label='smart', legend=True)\n",
    "plt.xlabel('Средний расход минут на 1 клиента')\n",
    "plt.title('Распределение среднего расхода минут на 1 клиента')\n",
    "plt.show()"
   ]
  },
  {
   "cell_type": "code",
   "execution_count": 115,
   "metadata": {},
   "outputs": [
    {
     "data": {
      "text/html": [
       "<div>\n",
       "<style scoped>\n",
       "    .dataframe tbody tr th:only-of-type {\n",
       "        vertical-align: middle;\n",
       "    }\n",
       "\n",
       "    .dataframe tbody tr th {\n",
       "        vertical-align: top;\n",
       "    }\n",
       "\n",
       "    .dataframe thead tr th {\n",
       "        text-align: left;\n",
       "    }\n",
       "\n",
       "    .dataframe thead tr:last-of-type th {\n",
       "        text-align: right;\n",
       "    }\n",
       "</style>\n",
       "<table border=\"1\" class=\"dataframe\">\n",
       "  <thead>\n",
       "    <tr>\n",
       "      <th></th>\n",
       "      <th>mean</th>\n",
       "      <th>median</th>\n",
       "      <th>var</th>\n",
       "      <th>std</th>\n",
       "    </tr>\n",
       "    <tr>\n",
       "      <th></th>\n",
       "      <th>duration_round</th>\n",
       "      <th>duration_round</th>\n",
       "      <th>duration_round</th>\n",
       "      <th>duration_round</th>\n",
       "    </tr>\n",
       "    <tr>\n",
       "      <th>tariff</th>\n",
       "      <th></th>\n",
       "      <th></th>\n",
       "      <th></th>\n",
       "      <th></th>\n",
       "    </tr>\n",
       "  </thead>\n",
       "  <tbody>\n",
       "    <tr>\n",
       "      <td>smart</td>\n",
       "      <td>429.7148</td>\n",
       "      <td>435.0000</td>\n",
       "      <td>38115.5041</td>\n",
       "      <td>195.2319</td>\n",
       "    </tr>\n",
       "    <tr>\n",
       "      <td>ultra</td>\n",
       "      <td>540.7677</td>\n",
       "      <td>532.0000</td>\n",
       "      <td>106480.7003</td>\n",
       "      <td>326.3138</td>\n",
       "    </tr>\n",
       "  </tbody>\n",
       "</table>\n",
       "</div>"
      ],
      "text/plain": [
       "                 mean         median            var            std\n",
       "       duration_round duration_round duration_round duration_round\n",
       "tariff                                                            \n",
       "smart        429.7148       435.0000     38115.5041       195.2319\n",
       "ultra        540.7677       532.0000    106480.7003       326.3138"
      ]
     },
     "execution_count": 115,
     "metadata": {},
     "output_type": "execute_result"
    }
   ],
   "source": [
    "data.pivot_table(index=['tariff'], values=['duration_round'], aggfunc=['mean','median','var','std'])"
   ]
  },
  {
   "cell_type": "markdown",
   "metadata": {},
   "source": [
    "Поскольку медианы и средние значения практически совпадают (по тарифу 'smart' небольшой скос влево, по тарифу 'ultra' небольшой скос в право), можно считать что мы имеем нормальное распределение. На тарифе smart данные меньше разбросаны относительно среднего (большинство значений распределено в диапозоне от 0 до 800 минут, при среднем значении 430 минут, три стандартных отклонения примерно в полтора раза превышает среднее значение), чем на тарифе ultra (стандартное отклонение относительно среднего значения высокое, на графике видно, что данные распределены на диапозоне от 0 до 1200 минут, три стандартных отклонения почти в два раза превышают среднее значение) "
   ]
  },
  {
   "cell_type": "code",
   "execution_count": 116,
   "metadata": {},
   "outputs": [
    {
     "data": {
      "text/html": [
       "<div>\n",
       "<style scoped>\n",
       "    .dataframe tbody tr th:only-of-type {\n",
       "        vertical-align: middle;\n",
       "    }\n",
       "\n",
       "    .dataframe tbody tr th {\n",
       "        vertical-align: top;\n",
       "    }\n",
       "\n",
       "    .dataframe thead th {\n",
       "        text-align: right;\n",
       "    }\n",
       "</style>\n",
       "<table border=\"1\" class=\"dataframe\">\n",
       "  <thead>\n",
       "    <tr style=\"text-align: right;\">\n",
       "      <th></th>\n",
       "      <th>mb_used_round</th>\n",
       "      <th>over_mb</th>\n",
       "    </tr>\n",
       "    <tr>\n",
       "      <th>tariff</th>\n",
       "      <th></th>\n",
       "      <th></th>\n",
       "    </tr>\n",
       "  </thead>\n",
       "  <tbody>\n",
       "    <tr>\n",
       "      <td>smart</td>\n",
       "      <td>16230.3372</td>\n",
       "      <td>2775.2287</td>\n",
       "    </tr>\n",
       "    <tr>\n",
       "      <td>ultra</td>\n",
       "      <td>19469.3114</td>\n",
       "      <td>754.3103</td>\n",
       "    </tr>\n",
       "  </tbody>\n",
       "</table>\n",
       "</div>"
      ],
      "text/plain": [
       "        mb_used_round   over_mb\n",
       "tariff                         \n",
       "smart      16230.3372 2775.2287\n",
       "ultra      19469.3114  754.3103"
      ]
     },
     "execution_count": 116,
     "metadata": {},
     "output_type": "execute_result"
    }
   ],
   "source": [
    "data.pivot_table(index=['tariff'], values=['mb_used_round','over_mb'], aggfunc='mean')"
   ]
  },
  {
   "cell_type": "code",
   "execution_count": 117,
   "metadata": {},
   "outputs": [
    {
     "data": {
      "image/png": "[encoded data removed]",
      "text/plain": [
       "<Figure size 720x360 with 1 Axes>"
      ]
     },
     "metadata": {},
     "output_type": "display_data"
    }
   ],
   "source": [
    "data.pivot_table(index='month', columns='tariff', values='mb_used_round', aggfunc='mean').plot(linewidth=5, figsize=(10,5))\n",
    "plt.title('Динамика использования интернет трафика на разных тарифах')\n",
    "plt.ylabel('Интернет трафик на 1 клиента в мес., Mb')\n",
    "plt.style.use('fivethirtyeight')\n",
    "plt.show()"
   ]
  },
  {
   "cell_type": "code",
   "execution_count": 118,
   "metadata": {},
   "outputs": [
    {
     "data": {
      "image/png": "[encoded data removed]",
      "text/plain": [
       "<Figure size 720x360 with 1 Axes>"
      ]
     },
     "metadata": {},
     "output_type": "display_data"
    }
   ],
   "source": [
    "data.pivot_table(index=['user_id','month'], columns='tariff', values='mb_used_round', aggfunc='mean') \\\n",
    "    .plot(kind='hist', histtype='step', bins=20, linewidth=5, figsize=(10,5), alpha=0.7, label='smart', legend=True)\n",
    "plt.xlabel('Средний расход интернет-трафика на 1 клиента')\n",
    "plt.title('Распределение среднего расхода интернет трафика на 1 клиента')\n",
    "plt.show()"
   ]
  },
  {
   "cell_type": "code",
   "execution_count": 119,
   "metadata": {},
   "outputs": [
    {
     "data": {
      "text/html": [
       "<div>\n",
       "<style scoped>\n",
       "    .dataframe tbody tr th:only-of-type {\n",
       "        vertical-align: middle;\n",
       "    }\n",
       "\n",
       "    .dataframe tbody tr th {\n",
       "        vertical-align: top;\n",
       "    }\n",
       "\n",
       "    .dataframe thead tr th {\n",
       "        text-align: left;\n",
       "    }\n",
       "\n",
       "    .dataframe thead tr:last-of-type th {\n",
       "        text-align: right;\n",
       "    }\n",
       "</style>\n",
       "<table border=\"1\" class=\"dataframe\">\n",
       "  <thead>\n",
       "    <tr>\n",
       "      <th></th>\n",
       "      <th>mean</th>\n",
       "      <th>median</th>\n",
       "      <th>var</th>\n",
       "      <th>std</th>\n",
       "    </tr>\n",
       "    <tr>\n",
       "      <th></th>\n",
       "      <th>mb_used_round</th>\n",
       "      <th>mb_used_round</th>\n",
       "      <th>mb_used_round</th>\n",
       "      <th>mb_used_round</th>\n",
       "    </tr>\n",
       "    <tr>\n",
       "      <th>tariff</th>\n",
       "      <th></th>\n",
       "      <th></th>\n",
       "      <th></th>\n",
       "      <th></th>\n",
       "    </tr>\n",
       "  </thead>\n",
       "  <tbody>\n",
       "    <tr>\n",
       "      <td>smart</td>\n",
       "      <td>16230.3372</td>\n",
       "      <td>16538.0000</td>\n",
       "      <td>34676674.2290</td>\n",
       "      <td>5888.6904</td>\n",
       "    </tr>\n",
       "    <tr>\n",
       "      <td>ultra</td>\n",
       "      <td>19469.3114</td>\n",
       "      <td>19321.0000</td>\n",
       "      <td>102237336.6999</td>\n",
       "      <td>10111.2480</td>\n",
       "    </tr>\n",
       "  </tbody>\n",
       "</table>\n",
       "</div>"
      ],
      "text/plain": [
       "                mean        median            var           std\n",
       "       mb_used_round mb_used_round  mb_used_round mb_used_round\n",
       "tariff                                                         \n",
       "smart     16230.3372    16538.0000  34676674.2290     5888.6904\n",
       "ultra     19469.3114    19321.0000 102237336.6999    10111.2480"
      ]
     },
     "execution_count": 119,
     "metadata": {},
     "output_type": "execute_result"
    }
   ],
   "source": [
    "data.pivot_table(index=['tariff'], values=['mb_used_round'], aggfunc=['mean','median','var','std'])"
   ]
  },
  {
   "cell_type": "markdown",
   "metadata": {},
   "source": [
    "В истользовании интренет трафика также можно считать распреление нормальным (медиана и среднее значение близки)"
   ]
  },
  {
   "cell_type": "code",
   "execution_count": 120,
   "metadata": {},
   "outputs": [
    {
     "data": {
      "text/html": [
       "<div>\n",
       "<style scoped>\n",
       "    .dataframe tbody tr th:only-of-type {\n",
       "        vertical-align: middle;\n",
       "    }\n",
       "\n",
       "    .dataframe tbody tr th {\n",
       "        vertical-align: top;\n",
       "    }\n",
       "\n",
       "    .dataframe thead th {\n",
       "        text-align: right;\n",
       "    }\n",
       "</style>\n",
       "<table border=\"1\" class=\"dataframe\">\n",
       "  <thead>\n",
       "    <tr style=\"text-align: right;\">\n",
       "      <th></th>\n",
       "      <th>over_sms</th>\n",
       "      <th>sms</th>\n",
       "    </tr>\n",
       "    <tr>\n",
       "      <th>tariff</th>\n",
       "      <th></th>\n",
       "      <th></th>\n",
       "    </tr>\n",
       "  </thead>\n",
       "  <tbody>\n",
       "    <tr>\n",
       "      <td>smart</td>\n",
       "      <td>5.7973</td>\n",
       "      <td>33.3691</td>\n",
       "    </tr>\n",
       "    <tr>\n",
       "      <td>ultra</td>\n",
       "      <td>0.0000</td>\n",
       "      <td>49.3134</td>\n",
       "    </tr>\n",
       "  </tbody>\n",
       "</table>\n",
       "</div>"
      ],
      "text/plain": [
       "        over_sms     sms\n",
       "tariff                  \n",
       "smart     5.7973 33.3691\n",
       "ultra     0.0000 49.3134"
      ]
     },
     "execution_count": 120,
     "metadata": {},
     "output_type": "execute_result"
    }
   ],
   "source": [
    "data.pivot_table(index=['tariff'], values=['sms','over_sms'], aggfunc='mean')"
   ]
  },
  {
   "cell_type": "code",
   "execution_count": 121,
   "metadata": {},
   "outputs": [
    {
     "data": {
      "image/png": "[encoded data removed]",
      "text/plain": [
       "<Figure size 720x360 with 1 Axes>"
      ]
     },
     "metadata": {},
     "output_type": "display_data"
    }
   ],
   "source": [
    "data.pivot_table(index='month', columns='tariff', values='sms', aggfunc='mean').plot(linewidth=5, figsize=(10,5))\n",
    "plt.title('Динамика использования SMS сообщений на разных тарифах')\n",
    "plt.ylabel('SMS на 1 клиента в мес., шт.')\n",
    "plt.style.use('fivethirtyeight')\n",
    "plt.show()"
   ]
  },
  {
   "cell_type": "code",
   "execution_count": 122,
   "metadata": {},
   "outputs": [
    {
     "data": {
      "image/png": "[encoded data removed]",
      "text/plain": [
       "<Figure size 720x360 with 1 Axes>"
      ]
     },
     "metadata": {},
     "output_type": "display_data"
    }
   ],
   "source": [
    "data.pivot_table(index=['user_id','month'], columns='tariff', values='sms', aggfunc='mean') \\\n",
    "    .plot(kind='hist', histtype='step', bins=20, linewidth=5, figsize=(10,5), alpha=0.7, label='smart', legend=True)\n",
    "plt.xlabel('Среднее использование SMS на 1 клиента')\n",
    "plt.title('Распределение среднего использования SMS на 1 клиента')\n",
    "plt.show()"
   ]
  },
  {
   "cell_type": "code",
   "execution_count": 123,
   "metadata": {},
   "outputs": [
    {
     "data": {
      "text/html": [
       "<div>\n",
       "<style scoped>\n",
       "    .dataframe tbody tr th:only-of-type {\n",
       "        vertical-align: middle;\n",
       "    }\n",
       "\n",
       "    .dataframe tbody tr th {\n",
       "        vertical-align: top;\n",
       "    }\n",
       "\n",
       "    .dataframe thead tr th {\n",
       "        text-align: left;\n",
       "    }\n",
       "\n",
       "    .dataframe thead tr:last-of-type th {\n",
       "        text-align: right;\n",
       "    }\n",
       "</style>\n",
       "<table border=\"1\" class=\"dataframe\">\n",
       "  <thead>\n",
       "    <tr>\n",
       "      <th></th>\n",
       "      <th>mean</th>\n",
       "      <th>median</th>\n",
       "      <th>var</th>\n",
       "      <th>std</th>\n",
       "    </tr>\n",
       "    <tr>\n",
       "      <th></th>\n",
       "      <th>sms</th>\n",
       "      <th>sms</th>\n",
       "      <th>sms</th>\n",
       "      <th>sms</th>\n",
       "    </tr>\n",
       "    <tr>\n",
       "      <th>tariff</th>\n",
       "      <th></th>\n",
       "      <th></th>\n",
       "      <th></th>\n",
       "      <th></th>\n",
       "    </tr>\n",
       "  </thead>\n",
       "  <tbody>\n",
       "    <tr>\n",
       "      <td>smart</td>\n",
       "      <td>33.3691</td>\n",
       "      <td>28.0000</td>\n",
       "      <td>796.9553</td>\n",
       "      <td>28.2304</td>\n",
       "    </tr>\n",
       "    <tr>\n",
       "      <td>ultra</td>\n",
       "      <td>49.3134</td>\n",
       "      <td>38.0000</td>\n",
       "      <td>2285.4174</td>\n",
       "      <td>47.8060</td>\n",
       "    </tr>\n",
       "  </tbody>\n",
       "</table>\n",
       "</div>"
      ],
      "text/plain": [
       "          mean  median       var     std\n",
       "           sms     sms       sms     sms\n",
       "tariff                                  \n",
       "smart  33.3691 28.0000  796.9553 28.2304\n",
       "ultra  49.3134 38.0000 2285.4174 47.8060"
      ]
     },
     "execution_count": 123,
     "metadata": {},
     "output_type": "execute_result"
    }
   ],
   "source": [
    "data.pivot_table(index=['tariff'], values=['sms'], aggfunc=['mean','median','var','std'])"
   ]
  },
  {
   "cell_type": "markdown",
   "metadata": {},
   "source": [
    "Исходя из графика видно, что достаточно большое количество клиентов не использует SMS сообщения, либо использует их незначительно. График существенно смещен вправо, смещение также подтверждает и то что среднее значение существенно больше медианы. Распределение не является нормальным."
   ]
  },
  {
   "cell_type": "code",
   "execution_count": 124,
   "metadata": {},
   "outputs": [
    {
     "data": {
      "text/html": [
       "<div>\n",
       "<style scoped>\n",
       "    .dataframe tbody tr th:only-of-type {\n",
       "        vertical-align: middle;\n",
       "    }\n",
       "\n",
       "    .dataframe tbody tr th {\n",
       "        vertical-align: top;\n",
       "    }\n",
       "\n",
       "    .dataframe thead th {\n",
       "        text-align: right;\n",
       "    }\n",
       "</style>\n",
       "<table border=\"1\" class=\"dataframe\">\n",
       "  <thead>\n",
       "    <tr style=\"text-align: right;\">\n",
       "      <th></th>\n",
       "      <th>over_fee</th>\n",
       "      <th>revenue</th>\n",
       "    </tr>\n",
       "    <tr>\n",
       "      <th>tariff</th>\n",
       "      <th></th>\n",
       "      <th></th>\n",
       "    </tr>\n",
       "  </thead>\n",
       "  <tbody>\n",
       "    <tr>\n",
       "      <td>smart</td>\n",
       "      <td>762.9798</td>\n",
       "      <td>1312.9798</td>\n",
       "    </tr>\n",
       "    <tr>\n",
       "      <td>ultra</td>\n",
       "      <td>120.9432</td>\n",
       "      <td>2070.9432</td>\n",
       "    </tr>\n",
       "  </tbody>\n",
       "</table>\n",
       "</div>"
      ],
      "text/plain": [
       "        over_fee   revenue\n",
       "tariff                    \n",
       "smart   762.9798 1312.9798\n",
       "ultra   120.9432 2070.9432"
      ]
     },
     "execution_count": 124,
     "metadata": {},
     "output_type": "execute_result"
    }
   ],
   "source": [
    "data.pivot_table(index=['tariff'], values=['revenue','over_fee'], aggfunc='mean')"
   ]
  },
  {
   "cell_type": "markdown",
   "metadata": {},
   "source": [
    "Проанализируем какой доход в расчете на 1 клиента генерирует каждый из тарифов"
   ]
  },
  {
   "cell_type": "code",
   "execution_count": 125,
   "metadata": {},
   "outputs": [
    {
     "data": {
      "image/png": "[encoded data removed]",
      "text/plain": [
       "<Figure size 720x360 with 1 Axes>"
      ]
     },
     "metadata": {},
     "output_type": "display_data"
    }
   ],
   "source": [
    "data.pivot_table(index='month', columns='tariff', values='revenue', aggfunc='mean').plot(linewidth=5, figsize=(10,5))\n",
    "plt.title('Динамика среднего дохода от одного клиента за 2018 год')\n",
    "plt.ylim(500,2500)\n",
    "plt.ylabel('Доход на 1 клиента в мес., руб.')\n",
    "plt.style.use('fivethirtyeight')\n",
    "plt.show()"
   ]
  },
  {
   "cell_type": "markdown",
   "metadata": {},
   "source": [
    "На графике видно, что средний доход на 1 киента на тарифе smart растет в течении год, в то время как на тарифе ultra он держится на одном уровне."
   ]
  },
  {
   "cell_type": "code",
   "execution_count": 126,
   "metadata": {},
   "outputs": [
    {
     "data": {
      "image/png": "[encoded data removed]",
      "text/plain": [
       "<Figure size 720x360 with 1 Axes>"
      ]
     },
     "metadata": {},
     "output_type": "display_data"
    }
   ],
   "source": [
    "data.pivot_table(index=['user_id','month'], columns='tariff', values='revenue', aggfunc='mean') \\\n",
    "    .plot(kind='hist', histtype='step', range=(0, 4000), bins=25, linewidth=5, figsize=(10,5), alpha=0.7, label='smart', legend=True)\n",
    "plt.xlabel('Средний доход на 1 клиента')\n",
    "plt.title('Распределение среднего дохода на 1 клиента')\n",
    "plt.show()"
   ]
  },
  {
   "cell_type": "markdown",
   "metadata": {},
   "source": [
    "На тарифе смарт только небольшая часть клиентов укладывается в пакет услуг, включенных в тариф, при этом большинтсво клиентов доплачивают сверх пакета. На тарифе ultra обратная ситуация: клиенты в основном оплачивают только абонентскую плату и практически не выходят за пределы пакета услуг."
   ]
  },
  {
   "cell_type": "code",
   "execution_count": 127,
   "metadata": {},
   "outputs": [
    {
     "data": {
      "text/html": [
       "<div>\n",
       "<style scoped>\n",
       "    .dataframe tbody tr th:only-of-type {\n",
       "        vertical-align: middle;\n",
       "    }\n",
       "\n",
       "    .dataframe tbody tr th {\n",
       "        vertical-align: top;\n",
       "    }\n",
       "\n",
       "    .dataframe thead tr th {\n",
       "        text-align: left;\n",
       "    }\n",
       "\n",
       "    .dataframe thead tr:last-of-type th {\n",
       "        text-align: right;\n",
       "    }\n",
       "</style>\n",
       "<table border=\"1\" class=\"dataframe\">\n",
       "  <thead>\n",
       "    <tr>\n",
       "      <th></th>\n",
       "      <th>mean</th>\n",
       "      <th>median</th>\n",
       "      <th>var</th>\n",
       "      <th>std</th>\n",
       "    </tr>\n",
       "    <tr>\n",
       "      <th></th>\n",
       "      <th>revenue</th>\n",
       "      <th>revenue</th>\n",
       "      <th>revenue</th>\n",
       "      <th>revenue</th>\n",
       "    </tr>\n",
       "    <tr>\n",
       "      <th>tariff</th>\n",
       "      <th></th>\n",
       "      <th></th>\n",
       "      <th></th>\n",
       "      <th></th>\n",
       "    </tr>\n",
       "  </thead>\n",
       "  <tbody>\n",
       "    <tr>\n",
       "      <td>smart</td>\n",
       "      <td>1312.9798</td>\n",
       "      <td>1077.0000</td>\n",
       "      <td>690964.8641</td>\n",
       "      <td>831.2430</td>\n",
       "    </tr>\n",
       "    <tr>\n",
       "      <td>ultra</td>\n",
       "      <td>2070.9432</td>\n",
       "      <td>1950.0000</td>\n",
       "      <td>143360.4293</td>\n",
       "      <td>378.6297</td>\n",
       "    </tr>\n",
       "  </tbody>\n",
       "</table>\n",
       "</div>"
      ],
      "text/plain": [
       "            mean    median         var      std\n",
       "         revenue   revenue     revenue  revenue\n",
       "tariff                                         \n",
       "smart  1312.9798 1077.0000 690964.8641 831.2430\n",
       "ultra  2070.9432 1950.0000 143360.4293 378.6297"
      ]
     },
     "execution_count": 127,
     "metadata": {},
     "output_type": "execute_result"
    }
   ],
   "source": [
    "data.pivot_table(index=['tariff'], values=['revenue'], aggfunc=['mean','median','var','std'])"
   ]
  },
  {
   "cell_type": "markdown",
   "metadata": {},
   "source": [
    "Распределение доходов на одного клиента также не является нормально распределенной величиной ввиду наличия абонентской платы на тарифах."
   ]
  },
  {
   "cell_type": "markdown",
   "metadata": {},
   "source": [
    "Проверим какая доля клиентов доплачивает сверх абонентской платы, и какую сумму в среднем они доплачивают."
   ]
  },
  {
   "cell_type": "code",
   "execution_count": 128,
   "metadata": {},
   "outputs": [],
   "source": [
    "data['min_over'] = data['over_minutes'] > 0\n",
    "data['mb_over'] = data['over_mb'] > 0\n",
    "data['sms_over'] = data['over_sms'] > 0\n",
    "data['revenue_over'] = data['over_fee'] > 0"
   ]
  },
  {
   "cell_type": "code",
   "execution_count": 129,
   "metadata": {},
   "outputs": [],
   "source": [
    "a1 = data[data['tariff'] == 'smart']['revenue_over'].mean()\n",
    "a2 = data[data['tariff'] == 'ultra']['revenue_over'].mean()"
   ]
  },
  {
   "cell_type": "code",
   "execution_count": 130,
   "metadata": {},
   "outputs": [
    {
     "data": {
      "text/plain": [
       "<function matplotlib.pyplot.show(*args, **kw)>"
      ]
     },
     "execution_count": 130,
     "metadata": {},
     "output_type": "execute_result"
    },
    {
     "data": {
      "image/png": "[encoded data removed]",
      "text/plain": [
       "<Figure size 1152x360 with 2 Axes>"
      ]
     },
     "metadata": {},
     "output_type": "display_data"
    }
   ],
   "source": [
    "a = pd.DataFrame({'smart':[a1,1-a1], 'ultra':[a2,1-a2]}, index=['over','not_over'])\n",
    "labels='Доплачивают','Не доплачивают'\n",
    "fig,(ax1,ax2) = plt.subplots(nrows=1, ncols=2, figsize=(16,5))\n",
    "ax1.pie(a['smart'], autopct='%1.1f%%', labels=labels, shadow=True, startangle=90)\n",
    "ax1.set_title('Доля доплачивающих клиентов (smart)')\n",
    "ax2.pie(a['ultra'], autopct='%1.1f%%', labels=labels, shadow=True, startangle=90)\n",
    "ax2.set_title('Доля доплачивающих клиентов (ultra)')\n",
    "plt.show"
   ]
  },
  {
   "cell_type": "markdown",
   "metadata": {},
   "source": [
    "Проверим какой вид услуг в основном перелимичивают клиенты на исследуемых тарифах"
   ]
  },
  {
   "cell_type": "code",
   "execution_count": 131,
   "metadata": {},
   "outputs": [
    {
     "data": {
      "image/png": "[encoded data removed]",
      "text/plain": [
       "<Figure size 720x360 with 1 Axes>"
      ]
     },
     "metadata": {},
     "output_type": "display_data"
    },
    {
     "data": {
      "image/png": "[encoded data removed]",
      "text/plain": [
       "<Figure size 720x360 with 1 Axes>"
      ]
     },
     "metadata": {},
     "output_type": "display_data"
    },
    {
     "data": {
      "image/png": "[encoded data removed]",
      "text/plain": [
       "<Figure size 720x360 with 1 Axes>"
      ]
     },
     "metadata": {},
     "output_type": "display_data"
    },
    {
     "data": {
      "image/png": "[encoded data removed]",
      "text/plain": [
       "<Figure size 720x360 with 1 Axes>"
      ]
     },
     "metadata": {},
     "output_type": "display_data"
    }
   ],
   "source": [
    "disc_title = {'min_over':'Превышение количества минут',\n",
    "              'mb_over':'Превышение интернет трафика', \n",
    "              'sms_over':'Превышение количества СМС', \n",
    "              'revenue_over':'Доплачивают за услуги сверх пакета'}\n",
    "for i in data.iloc[:,[27,28,29,30]].columns:\n",
    "    data.pivot_table(index='month', columns='tariff', values=i, aggfunc='mean').plot(linewidth=5, figsize=(10,5))\n",
    "    plt.title(disc_title[i])\n",
    "    plt.ylabel('Доля')\n",
    "    plt.style.use('fivethirtyeight')\n",
    "    plt.show()"
   ]
  },
  {
   "cell_type": "markdown",
   "metadata": {},
   "source": [
    "Таким образом видно, что клиенты тарифа Ultra в анализируемой выборке не превышают пакеты минут и СМС предоставленные в рамках пакета, и около 15% клиентов превышают предоставленный пакет интернет трафика. В тарифе smart в конце года около 40% клиентов превышали пакет минут, более 70% превышали пакет мегабайт и около 30% превышали пакет СМС. В итоге клиенты тарифа ultra доплачивали оператору сверх абонентской платы только в 14% случаев, в то время как клиенты тарифа smart платят свехр пакета в 75% случаев. При этом необходимо также отметить, что доля клиентов на тарифе smart, оплачивающая сверх абонентской поаты существенно выросла за год с 25% в начале года 85% в конце года."
   ]
  },
  {
   "cell_type": "markdown",
   "metadata": {},
   "source": [
    "Оценим распределение среднего чека на 1 клиента по городам"
   ]
  },
  {
   "cell_type": "code",
   "execution_count": 132,
   "metadata": {},
   "outputs": [
    {
     "data": {
      "text/plain": [
       "Прочие             43.5323\n",
       "Москва             18.9988\n",
       "Санкт-Петербург     8.3955\n",
       "Новосибирск         3.0473\n",
       "Уфа                 2.9540\n",
       "Краснодар           2.6741\n",
       "Ульяновск           2.5808\n",
       "Казань              2.3943\n",
       "Омск                2.2699\n",
       "Пермь               2.1144\n",
       "Самара              2.0833\n",
       "Набережные Челны    1.9900\n",
       "Волгоград           1.8346\n",
       "Вологда             1.7413\n",
       "Пенза               1.7102\n",
       "Нижний Новгород     1.6791\n",
       "Name: city_top15, dtype: float64"
      ]
     },
     "execution_count": 132,
     "metadata": {},
     "output_type": "execute_result"
    }
   ],
   "source": [
    "c_top_15 = data['city'].value_counts(normalize=True).to_frame().head(15)\n",
    "data['city_top15'] = data['city'].where(data['city'].isin(c_top_15.index), 'Прочие')\n",
    "data['city_top15'].value_counts(normalize=True) * 100"
   ]
  },
  {
   "cell_type": "code",
   "execution_count": 133,
   "metadata": {},
   "outputs": [
    {
     "data": {
      "text/plain": [
       "Прочие             44.0807\n",
       "Москва             17.3094\n",
       "Санкт-Петербург     9.4170\n",
       "Ульяновск           3.6323\n",
       "Казань              3.3184\n",
       "Уфа                 2.9148\n",
       "Самара              2.4215\n",
       "Новосибирск         2.4215\n",
       "Омск                2.4215\n",
       "Набережные Челны    2.1973\n",
       "Волгоград           2.0179\n",
       "Вологда             2.0179\n",
       "Краснодар           2.0179\n",
       "Пермь               1.8834\n",
       "Нижний Новгород     1.3901\n",
       "Пенза               0.5381\n",
       "Name: city_top15, dtype: float64"
      ]
     },
     "execution_count": 133,
     "metadata": {},
     "output_type": "execute_result"
    }
   ],
   "source": [
    "data[data['tariff'] == 'smart']['city_top15'].value_counts(normalize=True) * 100"
   ]
  },
  {
   "cell_type": "code",
   "execution_count": 134,
   "metadata": {},
   "outputs": [
    {
     "data": {
      "text/plain": [
       "Прочие             42.2921\n",
       "Москва             22.8195\n",
       "Санкт-Петербург     6.0852\n",
       "Новосибирск         4.4625\n",
       "Пенза               4.3611\n",
       "Краснодар           4.1582\n",
       "Уфа                 3.0426\n",
       "Пермь               2.6369\n",
       "Нижний Новгород     2.3327\n",
       "Омск                1.9270\n",
       "Набережные Челны    1.5213\n",
       "Волгоград           1.4199\n",
       "Самара              1.3185\n",
       "Вологда             1.1156\n",
       "Казань              0.3043\n",
       "Ульяновск           0.2028\n",
       "Name: city_top15, dtype: float64"
      ]
     },
     "execution_count": 134,
     "metadata": {},
     "output_type": "execute_result"
    }
   ],
   "source": [
    "data[data['tariff'] == 'ultra']['city_top15'].value_counts(normalize=True) * 100"
   ]
  },
  {
   "cell_type": "code",
   "execution_count": 135,
   "metadata": {
    "scrolled": false
   },
   "outputs": [
    {
     "data": {
      "image/png": "[encoded data removed]",
      "text/plain": [
       "<Figure size 1152x360 with 1 Axes>"
      ]
     },
     "metadata": {},
     "output_type": "display_data"
    }
   ],
   "source": [
    "data.pivot_table(index='city_top15', columns='tariff', values='revenue', aggfunc='median') \\\n",
    "    .plot(kind='bar',rot=90,figsize=(16,5), legend=True)\n",
    "plt.title('Средний чек по ТОР-15 городов')\n",
    "plt.xlabel('Города')\n",
    "plt.ylabel('Средний чек')\n",
    "plt.show()"
   ]
  },
  {
   "cell_type": "markdown",
   "metadata": {},
   "source": [
    "На Москву и Санкт-Петербург приходится только 27% общей базы клиентов из выборки."
   ]
  },
  {
   "cell_type": "code",
   "execution_count": 136,
   "metadata": {},
   "outputs": [
    {
     "name": "stdout",
     "output_type": "stream",
     "text": [
      "Доля клиентов с тарифом ultra в выборке: 29.8%\n"
     ]
    }
   ],
   "source": [
    "print('Доля клиентов с тарифом ultra в выборке: {:.1%}'.\n",
    "     format(len(data[data['tariff'] == 'ultra']['user_id'].unique()) / len(data['user_id'].unique())))"
   ]
  },
  {
   "cell_type": "markdown",
   "metadata": {},
   "source": [
    "## Проверка гипотез <a class=\"anchor\" id=\"fourth-bullet\"></a>"
   ]
  },
  {
   "cell_type": "markdown",
   "metadata": {},
   "source": [
    "### Гипотеза 1. Средняя выручка пользователей тарифов smart и ultra различается"
   ]
  },
  {
   "cell_type": "markdown",
   "metadata": {},
   "source": [
    "Для проверки гипотезы сопоставим средние значения двух совокупностей.  \n",
    "Формируем нулевую гипотезу, что средняя выручка тарифов smart и ultra не отличается. Тогда альтернативной гипотезой будет утверждение, что средняя выручка отличается. Уровень статистической значимости зададим на уровне 5%. Гипотеза будет двухсторонняя, поскольку нам важно понять наличие различие между двумя выборками, а не понять что среднее значение одной выборки меньше чем другой."
   ]
  },
  {
   "cell_type": "code",
   "execution_count": 137,
   "metadata": {},
   "outputs": [
    {
     "name": "stdout",
     "output_type": "stream",
     "text": [
      "p-значение: 1.9782239771907945e-233\n",
      "Отвергаем нулевую гипотезу\n"
     ]
    }
   ],
   "source": [
    "a = 0.05 # уровень статистической значимости\n",
    "t1 = data[data['tariff'] == 'smart']['revenue']\n",
    "t2 = data[data['tariff'] == 'ultra']['revenue']\n",
    "results = st.ttest_ind(t1, t2, equal_var = False)\n",
    "# Используем equal_var = False из-за того, что из предыдущего анализа известно, \n",
    "# что дисперсии для двух анализируемых выборок отличаются в разы (для тарифа smart 691 тыс, для тарифа ultra 143 тыс.)\n",
    "\n",
    "print('p-значение:', results.pvalue)\n",
    "\n",
    "if (results.pvalue < a):\n",
    "    print(\"Отвергаем нулевую гипотезу\")\n",
    "else:\n",
    "    print(\"Не получилось отвергнуть нулевую гипотезу\")"
   ]
  },
  {
   "cell_type": "markdown",
   "metadata": {},
   "source": [
    "Полученное значение p-value очень маленькое, практически равно 0. Следовательно вероятность того, что две выборки будут на столько различаться статистически маловероятно, следовательно отвергаем нулевую гипотезу о том, что что средняя выручка на двух анализируемых тарифах не отличается. Поскольку из предыдущего анализа мы знаем, что в средняя выручка в анализируемой выборке на тарифе smart ниже, чем на тарифе ultra, практически нулевое значение p-value говорит о том, что средний чек на тарифе ultra в среднем выше."
   ]
  },
  {
   "cell_type": "markdown",
   "metadata": {},
   "source": [
    "### Гипотеза 2. Средняя выручка пользователей из Москвы отличается от выручки пользователей из других регионов"
   ]
  },
  {
   "cell_type": "markdown",
   "metadata": {},
   "source": [
    "Также для проверки гипотезы проведем сопоставление средних двух совокупностей.  \n",
    "Нулевая гипотеза будет свормулирована как: средняя выручка пользователей из Москвы не отличается от средней выручки пользователей из регионов. Следовательно альтернативная гипотеза будет свормулирована как: средняя выручка отличается. Уровень статистической значимости 5%. Гипотеза являетс двухсторонней."
   ]
  },
  {
   "cell_type": "code",
   "execution_count": 138,
   "metadata": {},
   "outputs": [
    {
     "name": "stdout",
     "output_type": "stream",
     "text": [
      "567396.5346784364\n",
      "663536.6136305875\n"
     ]
    }
   ],
   "source": [
    "a = 0.05 # уровень статистической значимости\n",
    "t1 = data[data['city'] == 'Москва']['revenue']\n",
    "t2 = data[data['city'] != 'Москва']['revenue']\n",
    "# Проверяем дисперсию двух выборок\n",
    "print(t1.var())\n",
    "print(t2.var())"
   ]
  },
  {
   "cell_type": "code",
   "execution_count": 139,
   "metadata": {},
   "outputs": [
    {
     "name": "stdout",
     "output_type": "stream",
     "text": [
      "p-значение: 0.5767357056836234\n",
      "Не получилось отвергнуть нулевую гипотезу\n"
     ]
    }
   ],
   "source": [
    "results = st.ttest_ind(t1, t2, equal_var = True)\n",
    "# Используем equal_var = True из-за того, что дисперсии для двух анализируемых выборок отличаются несущественно\n",
    "\n",
    "print('p-значение:', results.pvalue)\n",
    "\n",
    "if (results.pvalue < a):\n",
    "    print(\"Отвергаем нулевую гипотезу\")\n",
    "else:\n",
    "    print(\"Не получилось отвергнуть нулевую гипотезу\")"
   ]
  },
  {
   "cell_type": "markdown",
   "metadata": {},
   "source": [
    "Полученное значение p-value высокое, гораздо выше уровня статистической значимости, следовательно отвергнуть нулевую гипотезу не удалось (средняя выручка в Москве и регионах не отличается)."
   ]
  },
  {
   "cell_type": "markdown",
   "metadata": {},
   "source": [
    "## Общий вывод <a class=\"anchor\" id=\"fifth-bullet\"></a>"
   ]
  },
  {
   "cell_type": "markdown",
   "metadata": {},
   "source": [
    "Тариф ultra в среднем на одного клиента приносит больше выручки оператору, чем тариф smart, в основном за счет высокой фиксированной абонентской платы. При этом пользователи тарифа ultra практически не превышают пакет минут и смс включенный в тариф, и в небольшом количестве случаев превышают пакет мегабайт. При этом высокий уровень абонентской платы является ограничивающим фактором для привлечения потенциальных абонентов (только 30% клиентов в выборке пользовались тарифом ultra).  При этом тариф smart наоборот привлекает клиентов относительно небольшой абонентсокй платой, на за счет небольшого ежемесячного пакета услуг включенного в тариф 75% клиентов вынуждены сверх абоненсткой платы оплачивать дополнительные услуги, в результате чего средняя выручка на клиента более чем в два раза превышает абонентскую плату.  \n",
    "Для полноценной оценки выгодности того или иного тарифа для оператора требуется информация о себестоимости оказываемых услуг с учетом аллокации административно управленческих расходов, расходов на рекламу и т.д."
   ]
  },
  {
   "cell_type": "code",
   "execution_count": null,
   "metadata": {},
   "outputs": [],
   "source": []
  }
 ],
 "metadata": {
  "kernelspec": {
   "display_name": "Python 3",
   "language": "python",
   "name": "python3"
  },
  "language_info": {
   "codemirror_mode": {
    "name": "ipython",
    "version": 3
   },
   "file_extension": ".py",
   "mimetype": "text/x-python",
   "name": "python",
   "nbconvert_exporter": "python",
   "pygments_lexer": "ipython3",
   "version": "3.7.6"
  }
 },
 "nbformat": 4,
 "nbformat_minor": 2
}
